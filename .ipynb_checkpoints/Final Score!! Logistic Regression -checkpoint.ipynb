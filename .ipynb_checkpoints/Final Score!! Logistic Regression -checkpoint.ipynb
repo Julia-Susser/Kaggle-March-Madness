{
 "cells": [
  {
   "cell_type": "code",
   "execution_count": 1,
   "metadata": {
    "_cell_guid": "808f988c-1f41-4f7d-8793-c2026c82b4d1",
    "_uuid": "e705a25a301e51beba73d58c0d382009df875761"
   },
   "outputs": [
    {
     "name": "stdout",
     "output_type": "stream",
     "text": [
      "Cities.csv\n",
      "Conferences.csv\n",
      "MConferenceTourneyGames.csv\n",
      "MGameCities.csv\n",
      "MMasseyOrdinals.csv\n",
      "MNCAATourneyCompactResults.csv\n",
      "MNCAATourneyDetailedResults.csv\n",
      "MNCAATourneySeedRoundSlots.csv\n",
      "MNCAATourneySeeds.csv\n",
      "MNCAATourneySlots.csv\n",
      "MRegularSeasonCompactResults.csv\n",
      "MRegularSeasonDetailedResults.csv\n",
      "MSampleSubmissionStage1.csv\n",
      "MSeasons.csv\n",
      "MSecondaryTourneyCompactResults.csv\n",
      "MSecondaryTourneyTeams.csv\n",
      "MTeamCoaches.csv\n",
      "MTeamConferences.csv\n",
      "MTeamSpellings.csv\n",
      "MTeams.csv\n",
      "\n"
     ]
    }
   ],
   "source": [
    "# This Python 3 environment comes with many helpful analytics libraries installed\n",
    "# It is defined by the kaggle/python docker image: https://github.com/kaggle/docker-python\n",
    "# For example, here's several helpful packages to load in \n",
    "\n",
    "import numpy as np # linear algebra\n",
    "import pandas as pd # data processing, CSV file I/O (e.g. pd.read_csv)\n",
    "\n",
    "# Input data files are available in the \"../input/\" directory.\n",
    "# For example, running this (by clicking run or pressing Shift+Enter) will list the files in the input directory\n",
    "\n",
    "from subprocess import check_output\n",
    "print(check_output([\"ls\", \"../input\"]).decode(\"utf8\"))\n",
    "\n",
    "# Any results you write to the current directory are saved as output."
   ]
  },
  {
   "cell_type": "markdown",
   "metadata": {
    "_cell_guid": "69a946d1-e6ba-49aa-ba1a-f2c518473150",
    "_uuid": "10a565a4db1618f6284f08c3b62192eca1433aa0"
   },
   "source": [
    "First we import some datasets of interest"
   ]
  },
  {
   "cell_type": "code",
   "execution_count": 3,
   "metadata": {
    "_cell_guid": "4a7dc0a7-ca01-4190-91d4-ccb4fe370e49",
    "_uuid": "b0fb0901d2490632a2824dc05805c4f210115bc1"
   },
   "outputs": [],
   "source": [
    "#the seed information\n",
    "df_seeds = pd.read_csv('../input/MNCAATourneySeeds.csv')\n",
    "\n",
    "#tour information\n",
    "df_tour = pd.read_csv('../input/MNCAATourneyCompactResults.csv')"
   ]
  },
  {
   "cell_type": "markdown",
   "metadata": {
    "_cell_guid": "e454a77e-f49c-4d9d-892c-1123d8454bc2",
    "_uuid": "527abe962805346c8c8f6f16fdf5dd2597236dff"
   },
   "source": [
    "Now we separate the winners from the losers and organize our dataset"
   ]
  },
  {
   "cell_type": "code",
   "execution_count": 4,
   "metadata": {
    "_cell_guid": "4ec6229b-7494-4f18-a0a0-d8e5370c5f46",
    "_uuid": "7091f2c2a2ed6c5d8a146a3ac51c298a5a2a283e"
   },
   "outputs": [],
   "source": [
    "df_seeds['seed_int'] = df_seeds['Seed'].apply( lambda x : int(x[1:3]) )\n",
    "\n",
    "df_winseeds = df_seeds.loc[:, ['TeamID', 'Season', 'seed_int']].rename(columns={'TeamID':'WTeamID', 'seed_int':'WSeed'})\n",
    "df_lossseeds = df_seeds.loc[:, ['TeamID', 'Season', 'seed_int']].rename(columns={'TeamID':'LTeamID', 'seed_int':'LSeed'})\n",
    "df_dummy = pd.merge(left=df_tour, right=df_winseeds, how='left', on=['Season', 'WTeamID'])\n",
    "df_concat = pd.merge(left=df_dummy, right=df_lossseeds, on=['Season', 'LTeamID'])"
   ]
  },
  {
   "cell_type": "markdown",
   "metadata": {
    "_cell_guid": "e0e40d3d-7779-4667-8678-a96395355b9f",
    "_uuid": "3bb822c49b897ac8d62058b7c2ea5c72ad9e0236"
   },
   "source": [
    "Now we match the detailed results to the merge dataset above"
   ]
  },
  {
   "cell_type": "code",
   "execution_count": 5,
   "metadata": {
    "_cell_guid": "9aac33f3-1676-4ecb-b5d9-f164cf51e941",
    "_uuid": "03a96523f7d9a19dd29272952152fe6b0fa48f50"
   },
   "outputs": [],
   "source": [
    "df_concat['DiffSeed'] = df_concat[['LSeed', 'WSeed']].apply(lambda x : 0 if x[0] == x[1] else 1, axis = 1)"
   ]
  },
  {
   "cell_type": "markdown",
   "metadata": {
    "_cell_guid": "e28cb983-7c48-46cd-8dc4-1dfe8dba3578",
    "_uuid": "da5ff40a0948b76cd38dcc5e6f4b586a34956f08"
   },
   "source": [
    "Here we get our submission info"
   ]
  },
  {
   "cell_type": "code",
   "execution_count": 6,
   "metadata": {
    "_cell_guid": "d4981782-e062-451b-8d1e-0eae753283c6",
    "_uuid": "f75b6b8769bf465778bd886288db760dfccc1cb8"
   },
   "outputs": [],
   "source": [
    "#prepares sample submission\n",
    "df_sample_sub = pd.read_csv('../input/MSampleSubmissionStage1.csv')"
   ]
  },
  {
   "cell_type": "code",
   "execution_count": 7,
   "metadata": {
    "_cell_guid": "6e5c767d-e38a-4780-88cf-6121001b17c4",
    "_uuid": "12bb1ee9fef8960fc1889d6e0819befcb1551cd4"
   },
   "outputs": [],
   "source": [
    "df_sample_sub['Season'] = df_sample_sub['ID'].apply(lambda x : int(x.split('_')[0]) )\n",
    "df_sample_sub['TeamID1'] = df_sample_sub['ID'].apply(lambda x : int(x.split('_')[1]) )\n",
    "df_sample_sub['TeamID2'] = df_sample_sub['ID'].apply(lambda x : int(x.split('_')[2]) )"
   ]
  },
  {
   "cell_type": "markdown",
   "metadata": {
    "_cell_guid": "50ca7908-c5ec-4225-9290-db44a432948f",
    "_uuid": "5e3ac254a7959225599e5ce254ed13a1eb128d8d"
   },
   "source": [
    "# Training Data Creation"
   ]
  },
  {
   "cell_type": "code",
   "execution_count": 8,
   "metadata": {
    "_cell_guid": "1aefba0e-f65c-4538-bfd4-24bbdc5d7b62",
    "_uuid": "e05bb9aac2a0c46bc823be004888c1ad4d8232b2"
   },
   "outputs": [],
   "source": [
    "winners = df_concat.rename( columns = { 'WTeamID' : 'TeamID1', \n",
    "                                                       'LTeamID' : 'TeamID2',\n",
    "                                                      'WScore' : 'Team1_Score',\n",
    "                                                      'LScore' : 'Team2_Score'}).drop(['WSeed', 'LSeed', 'WLoc'], axis = 1)\n",
    "winners['Result'] = 1.0\n",
    "\n",
    "losers = df_concat.rename( columns = { 'WTeamID' : 'TeamID2', \n",
    "                                                       'LTeamID' : 'TeamID1',\n",
    "                                                      'WScore' : 'Team2_Score',\n",
    "                                                      'LScore' : 'Team1_Score'}).drop(['WSeed', 'LSeed', 'WLoc'], axis = 1)\n",
    "\n",
    "losers['Result'] = 0.0\n",
    "\n",
    "train = pd.concat( [winners, losers], axis = 0).reset_index(drop = True)\n",
    "\n",
    "train['Score_Ratio'] = train['Team1_Score'] / train['Team2_Score']\n",
    "train['Score_Total'] = train['Team1_Score'] + train['Team2_Score']\n",
    "train['Score_Pct'] = train['Team1_Score'] / train['Score_Total']"
   ]
  },
  {
   "cell_type": "markdown",
   "metadata": {
    "_cell_guid": "cd02010a-f89a-4f74-8f7b-2ac9fd5faebc",
    "_uuid": "d7ddc45574af7aef6c253368700b598f8f2d01dc"
   },
   "source": [
    "We will only consider years relevant to our test submission"
   ]
  },
  {
   "cell_type": "code",
   "execution_count": 9,
   "metadata": {
    "_cell_guid": "b9854119-287d-4886-9eab-7ddb3c43b4d8",
    "_uuid": "d9d25150440215fb7d2c3be529dc191e74f3dcd2"
   },
   "outputs": [],
   "source": [
    "years = [2014, 2015, 2016, 2017]"
   ]
  },
  {
   "cell_type": "markdown",
   "metadata": {
    "_cell_guid": "8181e004-87c6-4233-a607-1ae409a88e43",
    "_uuid": "17d0b4d22e0fc24f4b7ff047d77b2e6e32c9043e"
   },
   "source": [
    "Now lets just look at TeamID2, or just the second team info."
   ]
  },
  {
   "cell_type": "code",
   "execution_count": 10,
   "metadata": {
    "_cell_guid": "6ab2055b-692b-4359-82c2-5c8569a3593b",
    "_uuid": "51c899714907a95837d521a7fb58a1a9c998c45f"
   },
   "outputs": [],
   "source": [
    "train_test_inner = pd.merge( train.loc[ train['Season'].isin(years), : ].reset_index(drop = True), \n",
    "         df_sample_sub.drop(['ID', 'Pred'], axis = 1), \n",
    "         on = ['Season', 'TeamID1', 'TeamID2'], how = 'inner' )"
   ]
  },
  {
   "cell_type": "code",
   "execution_count": 11,
   "metadata": {
    "_cell_guid": "8765baf2-14bd-41b3-97ad-3f61589471c0",
    "_uuid": "24a2c86b65d10e8b89dc440f0ab9010f41e498b5"
   },
   "outputs": [
    {
     "data": {
      "text/html": [
       "<div>\n",
       "<style scoped>\n",
       "    .dataframe tbody tr th:only-of-type {\n",
       "        vertical-align: middle;\n",
       "    }\n",
       "\n",
       "    .dataframe tbody tr th {\n",
       "        vertical-align: top;\n",
       "    }\n",
       "\n",
       "    .dataframe thead th {\n",
       "        text-align: right;\n",
       "    }\n",
       "</style>\n",
       "<table border=\"1\" class=\"dataframe\">\n",
       "  <thead>\n",
       "    <tr style=\"text-align: right;\">\n",
       "      <th></th>\n",
       "      <th>Season</th>\n",
       "      <th>DayNum</th>\n",
       "      <th>TeamID1</th>\n",
       "      <th>Team1_Score</th>\n",
       "      <th>TeamID2</th>\n",
       "      <th>Team2_Score</th>\n",
       "      <th>NumOT</th>\n",
       "      <th>DiffSeed</th>\n",
       "      <th>Result</th>\n",
       "      <th>Score_Ratio</th>\n",
       "      <th>Score_Total</th>\n",
       "      <th>Score_Pct</th>\n",
       "    </tr>\n",
       "  </thead>\n",
       "  <tbody>\n",
       "    <tr>\n",
       "      <th>0</th>\n",
       "      <td>2015</td>\n",
       "      <td>134</td>\n",
       "      <td>1214</td>\n",
       "      <td>74</td>\n",
       "      <td>1264</td>\n",
       "      <td>64</td>\n",
       "      <td>0</td>\n",
       "      <td>0</td>\n",
       "      <td>1.0</td>\n",
       "      <td>1.156250</td>\n",
       "      <td>138</td>\n",
       "      <td>0.536232</td>\n",
       "    </tr>\n",
       "    <tr>\n",
       "      <th>1</th>\n",
       "      <td>2015</td>\n",
       "      <td>136</td>\n",
       "      <td>1112</td>\n",
       "      <td>93</td>\n",
       "      <td>1411</td>\n",
       "      <td>72</td>\n",
       "      <td>0</td>\n",
       "      <td>1</td>\n",
       "      <td>1.0</td>\n",
       "      <td>1.291667</td>\n",
       "      <td>165</td>\n",
       "      <td>0.563636</td>\n",
       "    </tr>\n",
       "    <tr>\n",
       "      <th>2</th>\n",
       "      <td>2015</td>\n",
       "      <td>136</td>\n",
       "      <td>1116</td>\n",
       "      <td>56</td>\n",
       "      <td>1459</td>\n",
       "      <td>53</td>\n",
       "      <td>0</td>\n",
       "      <td>1</td>\n",
       "      <td>1.0</td>\n",
       "      <td>1.056604</td>\n",
       "      <td>109</td>\n",
       "      <td>0.513761</td>\n",
       "    </tr>\n",
       "    <tr>\n",
       "      <th>3</th>\n",
       "      <td>2015</td>\n",
       "      <td>136</td>\n",
       "      <td>1139</td>\n",
       "      <td>56</td>\n",
       "      <td>1400</td>\n",
       "      <td>48</td>\n",
       "      <td>0</td>\n",
       "      <td>1</td>\n",
       "      <td>1.0</td>\n",
       "      <td>1.166667</td>\n",
       "      <td>104</td>\n",
       "      <td>0.538462</td>\n",
       "    </tr>\n",
       "    <tr>\n",
       "      <th>4</th>\n",
       "      <td>2015</td>\n",
       "      <td>136</td>\n",
       "      <td>1153</td>\n",
       "      <td>66</td>\n",
       "      <td>1345</td>\n",
       "      <td>65</td>\n",
       "      <td>1</td>\n",
       "      <td>1</td>\n",
       "      <td>1.0</td>\n",
       "      <td>1.015385</td>\n",
       "      <td>131</td>\n",
       "      <td>0.503817</td>\n",
       "    </tr>\n",
       "  </tbody>\n",
       "</table>\n",
       "</div>"
      ],
      "text/plain": [
       "   Season  DayNum  TeamID1  Team1_Score  TeamID2  Team2_Score  NumOT  \\\n",
       "0    2015     134     1214           74     1264           64      0   \n",
       "1    2015     136     1112           93     1411           72      0   \n",
       "2    2015     136     1116           56     1459           53      0   \n",
       "3    2015     136     1139           56     1400           48      0   \n",
       "4    2015     136     1153           66     1345           65      1   \n",
       "\n",
       "   DiffSeed  Result  Score_Ratio  Score_Total  Score_Pct  \n",
       "0         0     1.0     1.156250          138   0.536232  \n",
       "1         1     1.0     1.291667          165   0.563636  \n",
       "2         1     1.0     1.056604          109   0.513761  \n",
       "3         1     1.0     1.166667          104   0.538462  \n",
       "4         1     1.0     1.015385          131   0.503817  "
      ]
     },
     "execution_count": 11,
     "metadata": {},
     "output_type": "execute_result"
    }
   ],
   "source": [
    "train_test_inner.head()"
   ]
  },
  {
   "cell_type": "markdown",
   "metadata": {
    "_cell_guid": "d949fd36-41e5-49a3-baca-9c413dda8ead",
    "_uuid": "bc53738a6bb663f2cfbdca37cb89b39a28502ef9"
   },
   "source": [
    "From the inner join, we will create data per team id to estimate the parameters we are missing that are independent of the year.  Essentially, we are trying to estimate the average behavior of the team across the year."
   ]
  },
  {
   "cell_type": "code",
   "execution_count": 12,
   "metadata": {
    "_cell_guid": "e9229cea-e197-4175-af81-a8c73559fa85",
    "_uuid": "3d1d6ebcc2c00491a326277d01ee1843b28ba041"
   },
   "outputs": [
    {
     "data": {
      "text/html": [
       "<div>\n",
       "<style scoped>\n",
       "    .dataframe tbody tr th:only-of-type {\n",
       "        vertical-align: middle;\n",
       "    }\n",
       "\n",
       "    .dataframe tbody tr th {\n",
       "        vertical-align: top;\n",
       "    }\n",
       "\n",
       "    .dataframe thead th {\n",
       "        text-align: right;\n",
       "    }\n",
       "</style>\n",
       "<table border=\"1\" class=\"dataframe\">\n",
       "  <thead>\n",
       "    <tr style=\"text-align: right;\">\n",
       "      <th></th>\n",
       "      <th>Season</th>\n",
       "      <th>TeamID1</th>\n",
       "      <th>NumOT1</th>\n",
       "      <th>TeamID2</th>\n",
       "      <th>NumOT2</th>\n",
       "      <th>NumOT</th>\n",
       "    </tr>\n",
       "  </thead>\n",
       "  <tbody>\n",
       "    <tr>\n",
       "      <th>0</th>\n",
       "      <td>2015</td>\n",
       "      <td>1107</td>\n",
       "      <td>0.0</td>\n",
       "      <td>1173</td>\n",
       "      <td>0</td>\n",
       "      <td>0.0</td>\n",
       "    </tr>\n",
       "    <tr>\n",
       "      <th>1</th>\n",
       "      <td>2015</td>\n",
       "      <td>1107</td>\n",
       "      <td>0.0</td>\n",
       "      <td>1207</td>\n",
       "      <td>0</td>\n",
       "      <td>0.0</td>\n",
       "    </tr>\n",
       "    <tr>\n",
       "      <th>2</th>\n",
       "      <td>2015</td>\n",
       "      <td>1107</td>\n",
       "      <td>0.0</td>\n",
       "      <td>1209</td>\n",
       "      <td>0</td>\n",
       "      <td>0.0</td>\n",
       "    </tr>\n",
       "    <tr>\n",
       "      <th>3</th>\n",
       "      <td>2015</td>\n",
       "      <td>1107</td>\n",
       "      <td>0.0</td>\n",
       "      <td>1211</td>\n",
       "      <td>0</td>\n",
       "      <td>0.0</td>\n",
       "    </tr>\n",
       "    <tr>\n",
       "      <th>4</th>\n",
       "      <td>2015</td>\n",
       "      <td>1107</td>\n",
       "      <td>0.0</td>\n",
       "      <td>1234</td>\n",
       "      <td>0</td>\n",
       "      <td>0.0</td>\n",
       "    </tr>\n",
       "  </tbody>\n",
       "</table>\n",
       "</div>"
      ],
      "text/plain": [
       "   Season  TeamID1  NumOT1  TeamID2  NumOT2  NumOT\n",
       "0    2015     1107     0.0     1173       0    0.0\n",
       "1    2015     1107     0.0     1207       0    0.0\n",
       "2    2015     1107     0.0     1209       0    0.0\n",
       "3    2015     1107     0.0     1211       0    0.0\n",
       "4    2015     1107     0.0     1234       0    0.0"
      ]
     },
     "execution_count": 12,
     "metadata": {},
     "output_type": "execute_result"
    }
   ],
   "source": [
    "team1d_num_ot = train_test_inner.groupby(['Season', 'TeamID1'])['NumOT'].median().reset_index()\\\n",
    ".set_index('Season').rename(columns = {'NumOT' : 'NumOT1'})\n",
    "team2d_num_ot = train_test_inner.groupby(['Season', 'TeamID2'])['NumOT'].median().reset_index()\\\n",
    ".set_index('Season').rename(columns = {'NumOT' : 'NumOT2'})\n",
    "\n",
    "num_ot = team1d_num_ot.join(team2d_num_ot).reset_index()\n",
    "\n",
    "#sum the number of ot calls and subtract by one to prevent overcounting\n",
    "num_ot['NumOT'] = num_ot[['NumOT1', 'NumOT2']].apply(lambda x : round( x.sum() ), axis = 1 )\n",
    "\n",
    "num_ot.head()"
   ]
  },
  {
   "cell_type": "markdown",
   "metadata": {
    "_cell_guid": "6bfe5a2e-64c9-4182-ab95-9df6b26652ee",
    "_uuid": "6ba1de202839605950e4f6d4100ca0b162a41caf"
   },
   "source": [
    "Here we look at the comparable statistics.  For the TeamID2 column, we would consider the inverse of the ratio, and 1 minus the score attempt percentage."
   ]
  },
  {
   "cell_type": "code",
   "execution_count": 13,
   "metadata": {
    "_cell_guid": "a9b820c4-6ff1-4855-90f1-283517d046eb",
    "_uuid": "c0d0a6c93209d22a3e809c77507340e97c1c0a11"
   },
   "outputs": [
    {
     "data": {
      "text/html": [
       "<div>\n",
       "<style scoped>\n",
       "    .dataframe tbody tr th:only-of-type {\n",
       "        vertical-align: middle;\n",
       "    }\n",
       "\n",
       "    .dataframe tbody tr th {\n",
       "        vertical-align: top;\n",
       "    }\n",
       "\n",
       "    .dataframe thead th {\n",
       "        text-align: right;\n",
       "    }\n",
       "</style>\n",
       "<table border=\"1\" class=\"dataframe\">\n",
       "  <thead>\n",
       "    <tr style=\"text-align: right;\">\n",
       "      <th></th>\n",
       "      <th>Season</th>\n",
       "      <th>TeamID1</th>\n",
       "      <th>Score_Ratio1</th>\n",
       "      <th>Score_Pct1</th>\n",
       "      <th>TeamID2</th>\n",
       "      <th>Score_Ratio2</th>\n",
       "      <th>Score_Pct2</th>\n",
       "      <th>Score_Ratio</th>\n",
       "      <th>Score_Pct</th>\n",
       "    </tr>\n",
       "  </thead>\n",
       "  <tbody>\n",
       "    <tr>\n",
       "      <th>0</th>\n",
       "      <td>2015</td>\n",
       "      <td>1107</td>\n",
       "      <td>0.869565</td>\n",
       "      <td>0.465116</td>\n",
       "      <td>1173</td>\n",
       "      <td>0.982143</td>\n",
       "      <td>0.495495</td>\n",
       "      <td>0.940944</td>\n",
       "      <td>0.484010</td>\n",
       "    </tr>\n",
       "    <tr>\n",
       "      <th>1</th>\n",
       "      <td>2015</td>\n",
       "      <td>1107</td>\n",
       "      <td>0.869565</td>\n",
       "      <td>0.465116</td>\n",
       "      <td>1207</td>\n",
       "      <td>0.880952</td>\n",
       "      <td>0.468354</td>\n",
       "      <td>0.993516</td>\n",
       "      <td>0.496161</td>\n",
       "    </tr>\n",
       "    <tr>\n",
       "      <th>2</th>\n",
       "      <td>2015</td>\n",
       "      <td>1107</td>\n",
       "      <td>0.869565</td>\n",
       "      <td>0.465116</td>\n",
       "      <td>1209</td>\n",
       "      <td>0.982456</td>\n",
       "      <td>0.495575</td>\n",
       "      <td>0.940794</td>\n",
       "      <td>0.483974</td>\n",
       "    </tr>\n",
       "    <tr>\n",
       "      <th>3</th>\n",
       "      <td>2015</td>\n",
       "      <td>1107</td>\n",
       "      <td>0.869565</td>\n",
       "      <td>0.465116</td>\n",
       "      <td>1211</td>\n",
       "      <td>1.269231</td>\n",
       "      <td>0.559322</td>\n",
       "      <td>0.827715</td>\n",
       "      <td>0.452567</td>\n",
       "    </tr>\n",
       "    <tr>\n",
       "      <th>4</th>\n",
       "      <td>2015</td>\n",
       "      <td>1107</td>\n",
       "      <td>0.869565</td>\n",
       "      <td>0.465116</td>\n",
       "      <td>1234</td>\n",
       "      <td>0.895298</td>\n",
       "      <td>0.456854</td>\n",
       "      <td>0.985524</td>\n",
       "      <td>0.501112</td>\n",
       "    </tr>\n",
       "  </tbody>\n",
       "</table>\n",
       "</div>"
      ],
      "text/plain": [
       "   Season  TeamID1  Score_Ratio1  Score_Pct1  TeamID2  Score_Ratio2  \\\n",
       "0    2015     1107      0.869565    0.465116     1173      0.982143   \n",
       "1    2015     1107      0.869565    0.465116     1207      0.880952   \n",
       "2    2015     1107      0.869565    0.465116     1209      0.982456   \n",
       "3    2015     1107      0.869565    0.465116     1211      1.269231   \n",
       "4    2015     1107      0.869565    0.465116     1234      0.895298   \n",
       "\n",
       "   Score_Pct2  Score_Ratio  Score_Pct  \n",
       "0    0.495495     0.940944   0.484010  \n",
       "1    0.468354     0.993516   0.496161  \n",
       "2    0.495575     0.940794   0.483974  \n",
       "3    0.559322     0.827715   0.452567  \n",
       "4    0.456854     0.985524   0.501112  "
      ]
     },
     "execution_count": 13,
     "metadata": {},
     "output_type": "execute_result"
    }
   ],
   "source": [
    "def geo_mean( x ):\n",
    "    return np.exp( np.mean(np.log(x)) )\n",
    "\n",
    "def harm_mean( x ):\n",
    "    return np.mean( x ** -1.0 ) ** -1.0\n",
    "\n",
    "team1d_score_spread = train_test_inner.groupby(['Season', 'TeamID1'])[['Score_Ratio', 'Score_Pct']]\\\n",
    ".agg({ 'Score_Ratio': geo_mean, 'Score_Pct' : harm_mean}).reset_index()\\\n",
    ".set_index('Season').rename(columns = {'Score_Ratio' : 'Score_Ratio1', 'Score_Pct' : 'Score_Pct1'})\n",
    "team2d_score_spread = train_test_inner.groupby(['Season', 'TeamID2'])[['Score_Ratio', 'Score_Pct']]\\\n",
    ".agg({ 'Score_Ratio': geo_mean, 'Score_Pct' : harm_mean}).reset_index()\\\n",
    ".set_index('Season').rename(columns = {'Score_Ratio' : 'Score_Ratio2', 'Score_Pct' : 'Score_Pct2'})\n",
    "\n",
    "score_spread = team1d_score_spread.join(team2d_score_spread).reset_index()\n",
    "\n",
    "#geometric mean of score ratio of team 1 and inverse of team 2\n",
    "score_spread['Score_Ratio'] = score_spread[['Score_Ratio1', 'Score_Ratio2']].apply(lambda x : ( x[0] * ( x[1] ** -1.0) ), axis = 1 ) ** 0.5\n",
    "\n",
    "#harmonic mean of score pct\n",
    "score_spread['Score_Pct'] = score_spread[['Score_Pct1', 'Score_Pct2']].apply(lambda x : 0.5*( x[0] ** -1.0 ) + 0.5*( 1.0 - x[1] ) ** -1.0, axis = 1 ) ** -1.0\n",
    "\n",
    "score_spread.head()"
   ]
  },
  {
   "cell_type": "markdown",
   "metadata": {
    "_cell_guid": "9acddd0a-ce83-4cb2-b5ec-5ea8f63b7a12",
    "_uuid": "5950ad4cf87dc9cf1fe4ed3e5270931414369c13"
   },
   "source": [
    "Now lets create a model just solely based on the inner group and predict those probabilities. \n",
    "\n",
    "We will get the teams with the missing result."
   ]
  },
  {
   "cell_type": "code",
   "execution_count": 14,
   "metadata": {
    "_cell_guid": "2ba53742-9354-41bd-82a4-9a29f4420b76",
    "_uuid": "ffcb3fd4442a70c521095136e3093319eb3e4fa8"
   },
   "outputs": [],
   "source": [
    "X_train = train_test_inner.loc[:, ['Season', 'NumOT', 'Score_Ratio', 'Score_Pct']]\n",
    "train_labels = train_test_inner['Result']\n",
    "\n",
    "train_test_outer = pd.merge( train.loc[ train['Season'].isin(years), : ].reset_index(drop = True), \n",
    "         df_sample_sub.drop(['ID', 'Pred'], axis = 1), \n",
    "         on = ['Season', 'TeamID1', 'TeamID2'], how = 'outer' )\n",
    "\n",
    "train_test_outer = train_test_outer.loc[ train_test_outer['Result'].isnull(), \n",
    "                                        ['TeamID1', 'TeamID2', 'Season']]\n",
    "\n",
    "train_test_missing = pd.merge( pd.merge( score_spread.loc[:, ['TeamID1', 'TeamID2', 'Season', 'Score_Ratio', 'Score_Pct']], \n",
    "                   train_test_outer, on = ['TeamID1', 'TeamID2', 'Season']),\n",
    "         num_ot.loc[:, ['TeamID1', 'TeamID2', 'Season', 'NumOT']],\n",
    "         on = ['TeamID1', 'TeamID2', 'Season'])"
   ]
  },
  {
   "cell_type": "markdown",
   "metadata": {
    "_cell_guid": "9a2d4441-4a06-4dc6-bd08-73ffdec35005",
    "_uuid": "d60c8973fe87097d57580a47864a56918e6f864f"
   },
   "source": [
    "We scale our data for our logistic regression, and make sure our categorical variables are properly processed."
   ]
  },
  {
   "cell_type": "code",
   "execution_count": 15,
   "metadata": {
    "_cell_guid": "95268c5c-1da0-4ed3-a30f-eb5c31efc64e",
    "_uuid": "523d27436cd4593ade32cd26bbdee7004e713009"
   },
   "outputs": [],
   "source": [
    "X_test = train_test_missing.loc[:, ['Season', 'NumOT', 'Score_Ratio', 'Score_Pct']]\n",
    "\n",
    "n = X_train.shape[0]\n",
    "\n",
    "train_test_merge = pd.concat( [X_train, X_test], axis = 0 ).reset_index(drop = True)\n",
    "\n",
    "train_test_merge = pd.concat( [pd.get_dummies( train_test_merge['Season'].astype(object) ), \n",
    "            train_test_merge.drop('Season', axis = 1) ], axis = 1 )\n",
    "\n",
    "train_test_merge = pd.concat( [pd.get_dummies( train_test_merge['NumOT'].astype(object) ), \n",
    "            train_test_merge.drop('NumOT', axis = 1) ], axis = 1 )\n",
    "\n",
    "X_train = train_test_merge.loc[:(n - 1), :].reset_index(drop = True)\n",
    "X_test = train_test_merge.loc[n:, :].reset_index(drop = True)"
   ]
  },
  {
   "cell_type": "code",
   "execution_count": 16,
   "metadata": {
    "_cell_guid": "041c02d8-d033-4a81-90eb-72fbb9546002",
    "_uuid": "ea2411e0e759d42b0a16e1d0b4c53a14807ed6ad"
   },
   "outputs": [],
   "source": [
    "x_max = X_train.max()\n",
    "x_min = X_train.min()\n",
    "\n",
    "X_train = ( X_train - x_min ) / ( x_max - x_min + 1e-14)\n",
    "X_test = ( X_test - x_min ) / ( x_max - x_min + 1e-14)"
   ]
  },
  {
   "cell_type": "code",
   "execution_count": 17,
   "metadata": {
    "_cell_guid": "e181cb99-419f-4ae3-9f4a-d2efacf51523",
    "_uuid": "6ed274ee9b7e457f4d90d9ed34e4db5ed6590b7a"
   },
   "outputs": [
    {
     "data": {
      "text/plain": [
       "LogisticRegressionCV(cv=5)"
      ]
     },
     "execution_count": 17,
     "metadata": {},
     "output_type": "execute_result"
    }
   ],
   "source": [
    "from sklearn.linear_model import LogisticRegressionCV\n",
    "\n",
    "log_clf = LogisticRegressionCV(cv = 5)\n",
    "\n",
    "log_clf.fit( X_train, train_labels )"
   ]
  },
  {
   "cell_type": "markdown",
   "metadata": {
    "_cell_guid": "1eac4a2f-2adb-4024-b27a-7bb190eb0218",
    "_uuid": "e555bc243a54de4bb2328a1950433e7b270840cf"
   },
   "source": [
    "Here we store our probabilities"
   ]
  },
  {
   "cell_type": "code",
   "execution_count": 18,
   "metadata": {
    "_cell_guid": "9240a9a2-125f-4080-8312-9cef6ef01f36",
    "_uuid": "c4fb1aa4d082b150308eb6c05da52936c282929a"
   },
   "outputs": [],
   "source": [
    "train_test_inner['Pred1'] = log_clf.predict_proba(X_train)[:,1]\n",
    "train_test_missing['Pred1'] = log_clf.predict_proba(X_test)[:,1]"
   ]
  },
  {
   "cell_type": "markdown",
   "metadata": {
    "_cell_guid": "1ce6decf-87cd-430f-b0ba-03866c37f11d",
    "_uuid": "853dc8d62462cae05129941346cfb72ce27fadd1"
   },
   "source": [
    "We merge our predictions"
   ]
  },
  {
   "cell_type": "code",
   "execution_count": 19,
   "metadata": {
    "_cell_guid": "cb3bd03c-c657-4373-9149-bbac48f01bb4",
    "_uuid": "1d18855f0809102f5977f8e56662360571678d3b"
   },
   "outputs": [],
   "source": [
    "sub = pd.merge(df_sample_sub, \n",
    "                         pd.concat( [train_test_missing.loc[:, ['Season', 'TeamID1', 'TeamID2', 'Pred1']],\n",
    "                                     train_test_inner.loc[:, ['Season', 'TeamID1', 'TeamID2', 'Pred1']] ],\n",
    "                                   axis = 0).reset_index(drop = True),\n",
    "                  on = ['Season', 'TeamID1', 'TeamID2'], how = 'outer')"
   ]
  },
  {
   "cell_type": "markdown",
   "metadata": {
    "_cell_guid": "37984e41-9e15-4f7e-b220-82592ad7d723",
    "_uuid": "9f667dbe45586396c8695673d0c3378da0f11186"
   },
   "source": [
    "We get the 'average' probability of success for each team"
   ]
  },
  {
   "cell_type": "code",
   "execution_count": 20,
   "metadata": {
    "_cell_guid": "fcadfca6-7b2b-4d59-b50c-ae86739cf95e",
    "_uuid": "8931f14c50ce5e7ff46dc20b64522279f93b5112"
   },
   "outputs": [],
   "source": [
    "team1_probs = sub.groupby('TeamID1')['Pred1'].apply(lambda x : (x ** -1.0).mean() ** -1.0 ).fillna(0.5).to_dict()\n",
    "team2_probs = sub.groupby('TeamID2')['Pred1'].apply(lambda x : (x ** -1.0).mean() ** -1.0 ).fillna(0.5).to_dict()"
   ]
  },
  {
   "cell_type": "markdown",
   "metadata": {
    "_cell_guid": "20d14f70-8fd2-4728-a95f-b85cf06d06fd",
    "_uuid": "d4cf47906b76f7f1c09841d7856a4a5188c647e3"
   },
   "source": [
    "Any missing value for the prediciton will be imputed with the product of the probabilities calculated above.  We assume these are independent events."
   ]
  },
  {
   "cell_type": "code",
   "execution_count": 21,
   "metadata": {
    "_cell_guid": "c7ebdbb5-037f-49e2-8f3d-46785536e3cf",
    "_uuid": "0dbb8fe571e51bc18f640d89cdfacb9aa25bfa09"
   },
   "outputs": [],
   "source": [
    "sub['Pred'] = sub[['TeamID1', 'TeamID2','Pred1']]\\\n",
    ".apply(lambda x : team1_probs.get(x[0]) * ( 1 - team2_probs.get(x[1]) ) if np.isnan(x[2]) else x[2], \n",
    "       axis = 1)"
   ]
  },
  {
   "cell_type": "code",
   "execution_count": 22,
   "metadata": {
    "_cell_guid": "f484187d-4272-4a36-9252-a7a8143a11de",
    "_uuid": "05aa8d73fa65a02705d318d9c97be24b923e6ee7"
   },
   "outputs": [],
   "source": [
    "sub[['ID', 'Pred']].to_csv('sub.csv', index = False)"
   ]
  },
  {
   "cell_type": "code",
   "execution_count": 23,
   "metadata": {
    "_cell_guid": "bb17eff1-5946-4438-8d91-ce5176572cd7",
    "_uuid": "7e7bfaecf446551a3552bdb145c459a9e5bf69c1"
   },
   "outputs": [
    {
     "data": {
      "text/html": [
       "<div>\n",
       "<style scoped>\n",
       "    .dataframe tbody tr th:only-of-type {\n",
       "        vertical-align: middle;\n",
       "    }\n",
       "\n",
       "    .dataframe tbody tr th {\n",
       "        vertical-align: top;\n",
       "    }\n",
       "\n",
       "    .dataframe thead th {\n",
       "        text-align: right;\n",
       "    }\n",
       "</style>\n",
       "<table border=\"1\" class=\"dataframe\">\n",
       "  <thead>\n",
       "    <tr style=\"text-align: right;\">\n",
       "      <th></th>\n",
       "      <th>ID</th>\n",
       "      <th>Pred</th>\n",
       "    </tr>\n",
       "  </thead>\n",
       "  <tbody>\n",
       "    <tr>\n",
       "      <th>0</th>\n",
       "      <td>2015_1107_1112</td>\n",
       "      <td>7.973867e-16</td>\n",
       "    </tr>\n",
       "    <tr>\n",
       "      <th>1</th>\n",
       "      <td>2015_1107_1116</td>\n",
       "      <td>7.973867e-16</td>\n",
       "    </tr>\n",
       "    <tr>\n",
       "      <th>2</th>\n",
       "      <td>2015_1107_1124</td>\n",
       "      <td>7.973867e-16</td>\n",
       "    </tr>\n",
       "    <tr>\n",
       "      <th>3</th>\n",
       "      <td>2015_1107_1125</td>\n",
       "      <td>7.973867e-16</td>\n",
       "    </tr>\n",
       "    <tr>\n",
       "      <th>4</th>\n",
       "      <td>2015_1107_1129</td>\n",
       "      <td>7.973867e-16</td>\n",
       "    </tr>\n",
       "    <tr>\n",
       "      <th>5</th>\n",
       "      <td>2015_1107_1138</td>\n",
       "      <td>7.973867e-16</td>\n",
       "    </tr>\n",
       "    <tr>\n",
       "      <th>6</th>\n",
       "      <td>2015_1107_1139</td>\n",
       "      <td>7.973867e-16</td>\n",
       "    </tr>\n",
       "    <tr>\n",
       "      <th>7</th>\n",
       "      <td>2015_1107_1140</td>\n",
       "      <td>7.973867e-16</td>\n",
       "    </tr>\n",
       "    <tr>\n",
       "      <th>8</th>\n",
       "      <td>2015_1107_1153</td>\n",
       "      <td>7.973867e-16</td>\n",
       "    </tr>\n",
       "    <tr>\n",
       "      <th>9</th>\n",
       "      <td>2015_1107_1157</td>\n",
       "      <td>7.973867e-16</td>\n",
       "    </tr>\n",
       "    <tr>\n",
       "      <th>10</th>\n",
       "      <td>2015_1107_1172</td>\n",
       "      <td>7.973867e-16</td>\n",
       "    </tr>\n",
       "    <tr>\n",
       "      <th>11</th>\n",
       "      <td>2015_1107_1173</td>\n",
       "      <td>9.414423e-06</td>\n",
       "    </tr>\n",
       "    <tr>\n",
       "      <th>12</th>\n",
       "      <td>2015_1107_1181</td>\n",
       "      <td>7.973867e-16</td>\n",
       "    </tr>\n",
       "    <tr>\n",
       "      <th>13</th>\n",
       "      <td>2015_1107_1186</td>\n",
       "      <td>7.973867e-16</td>\n",
       "    </tr>\n",
       "    <tr>\n",
       "      <th>14</th>\n",
       "      <td>2015_1107_1207</td>\n",
       "      <td>2.875977e-02</td>\n",
       "    </tr>\n",
       "    <tr>\n",
       "      <th>15</th>\n",
       "      <td>2015_1107_1208</td>\n",
       "      <td>7.973867e-16</td>\n",
       "    </tr>\n",
       "    <tr>\n",
       "      <th>16</th>\n",
       "      <td>2015_1107_1209</td>\n",
       "      <td>9.193727e-06</td>\n",
       "    </tr>\n",
       "    <tr>\n",
       "      <th>17</th>\n",
       "      <td>2015_1107_1211</td>\n",
       "      <td>4.012768e-14</td>\n",
       "    </tr>\n",
       "    <tr>\n",
       "      <th>18</th>\n",
       "      <td>2015_1107_1214</td>\n",
       "      <td>7.973867e-16</td>\n",
       "    </tr>\n",
       "    <tr>\n",
       "      <th>19</th>\n",
       "      <td>2015_1107_1217</td>\n",
       "      <td>7.973867e-16</td>\n",
       "    </tr>\n",
       "  </tbody>\n",
       "</table>\n",
       "</div>"
      ],
      "text/plain": [
       "                ID          Pred\n",
       "0   2015_1107_1112  7.973867e-16\n",
       "1   2015_1107_1116  7.973867e-16\n",
       "2   2015_1107_1124  7.973867e-16\n",
       "3   2015_1107_1125  7.973867e-16\n",
       "4   2015_1107_1129  7.973867e-16\n",
       "5   2015_1107_1138  7.973867e-16\n",
       "6   2015_1107_1139  7.973867e-16\n",
       "7   2015_1107_1140  7.973867e-16\n",
       "8   2015_1107_1153  7.973867e-16\n",
       "9   2015_1107_1157  7.973867e-16\n",
       "10  2015_1107_1172  7.973867e-16\n",
       "11  2015_1107_1173  9.414423e-06\n",
       "12  2015_1107_1181  7.973867e-16\n",
       "13  2015_1107_1186  7.973867e-16\n",
       "14  2015_1107_1207  2.875977e-02\n",
       "15  2015_1107_1208  7.973867e-16\n",
       "16  2015_1107_1209  9.193727e-06\n",
       "17  2015_1107_1211  4.012768e-14\n",
       "18  2015_1107_1214  7.973867e-16\n",
       "19  2015_1107_1217  7.973867e-16"
      ]
     },
     "execution_count": 23,
     "metadata": {},
     "output_type": "execute_result"
    }
   ],
   "source": [
    "sub[['ID', 'Pred']].head(20)"
   ]
  },
  {
   "cell_type": "code",
   "execution_count": null,
   "metadata": {
    "_cell_guid": "dfb18170-66f1-4004-8ec9-ba52c18dcde4",
    "_uuid": "50bf94c114b6d27d9bd33815f4c33ec52c1f7bfa"
   },
   "outputs": [],
   "source": []
  },
  {
   "cell_type": "code",
   "execution_count": 27,
   "metadata": {},
   "outputs": [],
   "source": [
    "sub.iloc[:,:2].to_csv(\"sub.csv\",index=False)"
   ]
  },
  {
   "cell_type": "code",
   "execution_count": null,
   "metadata": {},
   "outputs": [],
   "source": []
  }
 ],
 "metadata": {
  "kernelspec": {
   "display_name": "Python 3",
   "language": "python",
   "name": "python3"
  },
  "language_info": {
   "codemirror_mode": {
    "name": "ipython",
    "version": 3
   },
   "file_extension": ".py",
   "mimetype": "text/x-python",
   "name": "python",
   "nbconvert_exporter": "python",
   "pygments_lexer": "ipython3",
   "version": "3.8.4"
  }
 },
 "nbformat": 4,
 "nbformat_minor": 1
}
