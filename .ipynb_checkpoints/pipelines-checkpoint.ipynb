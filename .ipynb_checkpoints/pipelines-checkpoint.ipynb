{
 "cells": [
  {
   "cell_type": "code",
   "execution_count": 177,
   "metadata": {},
   "outputs": [],
   "source": [
    "import pandas as pd\n",
    "import os\n",
    "from sklearn.utils import shuffle\n",
    "from sklearn.kernel_ridge import KernelRidge\n",
    "from sklearn.linear_model import SGDRegressor\n",
    "from sklearn.model_selection import KFold, cross_val_score, train_test_split # Model evaluation\n",
    "from sklearn.preprocessing import LabelEncoder, RobustScaler, OneHotEncoder, StandardScaler # Preprocessing\n",
    "from sklearn.linear_model import Lasso, Ridge, ElasticNet,  LassoLarsIC, RANSACRegressor, SGDRegressor, HuberRegressor, BayesianRidge # Linear models\n",
    "from sklearn.ensemble import RandomForestRegressor, BaggingRegressor, AdaBoostRegressor, GradientBoostingRegressor, ExtraTreesRegressor  # Ensemble methods\n",
    "from xgboost import XGBRegressor, XGBClassifier, plot_importance # XGBoost\n",
    "from sklearn.svm import SVR, SVC, LinearSVC  # Support Vector Regression\n",
    "from sklearn.tree import DecisionTreeRegressor # Decision Tree Regression\n",
    "from sklearn.neighbors import KNeighborsRegressor\n",
    "from sklearn.pipeline import Pipeline, make_pipeline # Streaming pipelines\n",
    "from sklearn.decomposition import KernelPCA, PCA # Dimensionality reduction\n",
    "from sklearn.feature_selection import SelectFromModel # Dimensionality reduction\n",
    "from sklearn.model_selection import learning_curve, validation_curve, GridSearchCV # Model evaluation\n",
    "from sklearn.base import clone, BaseEstimator, TransformerMixin, RegressorMixin # Clone estimator\n",
    "from sklearn.metrics import mean_squared_error as MSE\n",
    "from sklearn.metrics import explained_variance_score, median_absolute_error, r2_score, mean_squared_error #To evaluate our model\n",
    "from sklearn.metrics import accuracy_score, confusion_matrix, classification_report, fbeta_score #To evaluate our model\n",
    "from sklearn.linear_model import LinearRegression\n",
    "from lightgbm import LGBMRegressor\n",
    "from sklearn.linear_model import LogisticRegression\n",
    "\n",
    "os.chdir(\"../input\")"
   ]
  },
  {
   "cell_type": "code",
   "execution_count": 178,
   "metadata": {},
   "outputs": [],
   "source": [
    "def convert_int(x):\n",
    "    try:\n",
    "        return int(x)\n",
    "    except ValueError:\n",
    "        return int(x[:-1])"
   ]
  },
  {
   "cell_type": "code",
   "execution_count": 203,
   "metadata": {},
   "outputs": [],
   "source": [
    "import random\n",
    "train = pd.read_csv(\"MNCAATourneyCompactResults.csv\")\n",
    "seed_df = pd.read_csv(\"MNCAATourneySeeds.csv\")\n",
    "train = train.rename(columns={\"WTeamID\":\"ATeamID\",\"WScore\":\"AScore\",\"LTeamID\":\"BTeamID\",\"LScore\":\"BScore\"})\n",
    "train[\"y\"] = 1\n",
    "#switch_train = train - OVERFIT\n",
    "split = [True if random.randint(0,1)==1 else False for x in range(len(train))]\n",
    "train[\"split\"] = split\n",
    "switch_train = train[~train[\"split\"]].drop(columns=[\"split\"])\n",
    "train = train[train[\"split\"]].drop(columns=[\"split\"])\n",
    "switch_train = switch_train.rename(columns={\"BLoc\":\"ALoc\",\"ATeamID\":\"BTeamID\",\"AScore\":\"BScore\",\"BTeamID\":\"ATeamID\",\"BScore\":\"AScore\"})\n",
    "switch_train.y = 0\n",
    "train = pd.concat([train,switch_train])\n",
    "train = train.merge(seed_df, left_on=[\"ATeamID\",\"Season\"], right_on=[\"TeamID\",\"Season\"])\n",
    "train = train.merge(seed_df, left_on=[\"BTeamID\",\"Season\"], right_on=[\"TeamID\",\"Season\"])\n",
    "train = train.rename(columns={\"Seed_x\":\"ASeed\",\"Seed_y\":\"BSeed\"}).drop(columns=[\"TeamID_x\",\"TeamID_y\"])\n",
    "train.loc[:,[\"AZone\",\"ASeed\"]] = list(train.ASeed.apply(lambda x: [x[0],convert_int(x[1:])]))\n",
    "train.loc[:,[\"BZone\",\"BSeed\"]] = list(train.BSeed.apply(lambda x: [x[0],convert_int(x[1:])]))"
   ]
  },
  {
   "cell_type": "code",
   "execution_count": 204,
   "metadata": {},
   "outputs": [],
   "source": [
    "y = train[\"y\"]\n",
    "train = train[[\"Season\",\"ATeamID\",\"BTeamID\",\"ASeed\",\"BSeed\"]] #,\"AZone\",\"BZone\"\n"
   ]
  },
  {
   "cell_type": "code",
   "execution_count": 205,
   "metadata": {},
   "outputs": [],
   "source": [
    "\n",
    "test = pd.read_csv(\"../input/MSampleSubmissionStage1.csv\")\n",
    "test_ID = test.ID\n",
    "test = pd.DataFrame(list(test.ID.apply(lambda x: x.split(\"_\"))), test_ID, columns=[\"Season\",\"ATeamID\",\"BTeamID\"]).astype(\"int\").reset_index()\n",
    "test = test.merge(seed_df, left_on=[\"ATeamID\",\"Season\"], right_on=[\"TeamID\",\"Season\"])\n",
    "test = test.merge(seed_df, left_on=[\"BTeamID\",\"Season\"], right_on=[\"TeamID\",\"Season\"])\n",
    "test = test.rename(columns={\"Seed_x\":\"ASeed\",\"Seed_y\":\"BSeed\"}).drop(columns=[\"TeamID_x\",\"TeamID_y\"])\n",
    "test.loc[:,[\"AZone\",\"ASeed\"]] = list(test.ASeed.apply(lambda x: [x[0],convert_int(x[1:])]))\n",
    "test.loc[:,[\"BZone\",\"BSeed\"]] = list(test.BSeed.apply(lambda x: [x[0],convert_int(x[1:])]))\n",
    "test = test.set_index(\"ID\").loc[test_ID]\n",
    "test = test[[\"Season\",\"ATeamID\",\"BTeamID\",\"ASeed\",\"BSeed\"]]\n",
    "\n",
    "\n"
   ]
  },
  {
   "cell_type": "code",
   "execution_count": 206,
   "metadata": {},
   "outputs": [],
   "source": [
    "X = pd.concat([train,test])\n",
    "X = pd.get_dummies(X)\n",
    "train = X.iloc[:len(y)]\n",
    "test = X.iloc[len(y):]\n",
    "train, y = shuffle(train, y)\n",
    "train_X, val_X, train_y, val_y = train_test_split(train, y,test_size = 0.3, random_state = 123) "
   ]
  },
  {
   "cell_type": "code",
   "execution_count": 207,
   "metadata": {},
   "outputs": [],
   "source": [
    "def rmse(X, y,model=model):\n",
    "    kfold = KFold(n_splits=10, shuffle=True, random_state=seed)\n",
    "    rmse = np.sqrt(-cross_val_score(model, X,y, cv= kfold, scoring='neg_mean_squared_error', n_jobs=1))\n",
    "    return rmse\n",
    "\n",
    "def r2(X, y,model=model):\n",
    "    kfold = KFold(n_splits=10, shuffle=True, random_state=seed)\n",
    "    r2 = cross_val_score(model, X, y, cv= kfold, scoring=\"r2\", n_jobs=1)\n",
    "    return r2\n",
    "\n",
    "seed = 5\n",
    "n_folds =5"
   ]
  },
  {
   "cell_type": "code",
   "execution_count": 208,
   "metadata": {},
   "outputs": [
    {
     "name": "stdout",
     "output_type": "stream",
     "text": [
      "RMSE 0.455060\n",
      "R2 0.167917\n"
     ]
    },
    {
     "data": {
      "text/plain": [
       "array([-0.08640323,  0.11821281, -0.02070437, ...,  0.46196483,\n",
       "        0.89020072,  0.8520292 ])"
      ]
     },
     "execution_count": 208,
     "metadata": {},
     "output_type": "execute_result"
    }
   ],
   "source": [
    "model=LGBMRegressor()\n",
    "\n",
    "print(\"RMSE %f\" % rmse(train,y).mean())\n",
    "print(\"R2 %f\" % r2(train,y).mean())\n",
    "model.fit(train,y)\n",
    "model.predict(test)"
   ]
  },
  {
   "cell_type": "code",
   "execution_count": 211,
   "metadata": {},
   "outputs": [
    {
     "name": "stdout",
     "output_type": "stream",
     "text": [
      "RMSE 0.465583\n",
      "R2 0.128506\n",
      "RMSE val data:  0.474134\n"
     ]
    },
    {
     "data": {
      "text/plain": [
       "array([-0.08964654, -0.08964915,  0.02072174, ...,  0.66004671,\n",
       "        0.97766624,  1.00240787])"
      ]
     },
     "execution_count": 211,
     "metadata": {},
     "output_type": "execute_result"
    }
   ],
   "source": [
    "model=LGBMRegressor()\n",
    "print(\"RMSE %f\" % rmse(train_X, train_y).mean())\n",
    "print(\"R2 %f\" % r2(train_X, train_y).mean())\n",
    "\n",
    "model.fit(train_X, train_y)\n",
    "pred = model.predict(val_X) \n",
    "print(\"RMSE val data: % f\" %(np.sqrt(MSE(val_y, pred)))) \n",
    "model.predict(test)"
   ]
  },
  {
   "cell_type": "code",
   "execution_count": null,
   "metadata": {},
   "outputs": [],
   "source": [
    "finalPred = model.predict(test)\n",
    "finalPred = [min(max(x,0),1) for x in finalPred]\n",
    "sub = pd.DataFrame()\n",
    "sub['ID'] = test_ID\n",
    "sub['Pred'] = finalPred\n",
    "sub.to_csv('../output/lgbm_submission2.csv',index=False)"
   ]
  },
  {
   "cell_type": "code",
   "execution_count": 54,
   "metadata": {},
   "outputs": [
    {
     "name": "stdout",
     "output_type": "stream",
     "text": [
      "LGBM RMSE 0.468490\n",
      "LGBM R2 0.118169\n",
      "Ridge RMSE 0.433869\n",
      "Ridge R2 0.243426\n",
      "Lasso RMSE 0.433867\n",
      "Lasso R2 0.243436\n",
      "Elastic RMSE 0.433868\n",
      "Elastic R2 0.243432\n",
      "RF_reg RMSE 0.464940\n",
      "RF_reg R2 0.131141\n",
      "ET_reg RMSE 0.485626\n",
      "ET_reg R2 0.051878\n",
      "Scaled_BR_reg RMSE 0.483313\n",
      "Scaled_BR_reg R2 0.060846\n",
      "Hub-Reg RMSE 0.436323\n",
      "Hub-Reg R2 0.234661\n",
      "BayRidge RMSE 0.433876\n",
      "BayRidge R2 0.243412\n",
      "XGB_reg RMSE 0.524699\n",
      "XGB_reg R2 -0.106005\n",
      "DT_reg RMSE 0.618730\n",
      "DT_reg R2 -0.519539\n",
      "KNN_reg RMSE 0.516400\n",
      "KNN_reg R2 -0.071160\n",
      "ADA-Reg RMSE 0.439966\n",
      "ADA-Reg R2 0.230649\n",
      "Gboost-Reg RMSE 0.445883\n",
      "Gboost-Reg R2 0.200285\n",
      "LGBM RMSE 0.468490\n",
      "LGBM R2 0.118169\n",
      "RFR_PCA RMSE 0.536033\n",
      "RFR_PCA R2 -0.154546\n",
      "XGBR_PCA RMSE 0.560276\n",
      "XGBR_PCA R2 -0.260575\n"
     ]
    }
   ],
   "source": [
    "#creates a list of models\n",
    "#create a pipeline by writing it out or using make_pipeline then you can test how well the model does using cross validation.\n",
    "#however in order to use it you have to do model.fit()\n",
    "##lasso/ridge alpha gives a standard for how many of the features should have linear coefficients of zero - higher alpha = higher standard\n",
    "pipelines = []\n",
    "seed = 5\n",
    "\n",
    "#https://www.statisticshowto.com/ridge-regression/\n",
    "#just enough biased variables so that it does not become too varianced \n",
    "#Ridge regression is a way to create a parsimonious model when the number of predictor variables in a set exceeds the number of observations, or when a data set has multicollinearity (correlations between predictor variables).\n",
    "pipelines.append(\n",
    "                (\"LGBM\", \n",
    "                 LGBMRegressor()\n",
    "                 ))\n",
    "\n",
    "pipelines.append(\n",
    "                (\"Ridge\", \n",
    "                 Ridge(random_state=seed, alpha= 0.1, tol=0.1, solver='auto' )\n",
    "                 ))\n",
    "#https://www.statisticshowto.com/lasso-regression/ \n",
    "#Sparse using alpha decreases the amount of variables like ridge\n",
    "#Lasso, or Least Absolute Shrinkage and Selection Operator, is quite similar conceptually to ridge regression. It also adds a penalty for non-zero coefficients, but unlike ridge regression which penalizes sum of squared coefficients (the so-called L2 penalty), lasso penalizes the sum of their absolute values (L1 penalty). As a result, for high values of λ, many coefficients are exactly zeroed under lasso, which is never the case in ridge regression.\n",
    "pipelines.append(\n",
    "                (\"Lasso\", \n",
    "                 Lasso(random_state=seed, alpha=.0005, tol=0.1)\n",
    "                 ))\n",
    "#Elastic Net first emerged as a result of critique on lasso, whose variable selection can be too dependent on data and thus unstable. The solution is to combine the penalties of ridge regression and lasso to get the best of both worlds.\n",
    "pipelines.append(\n",
    "                (\"Elastic\", \n",
    "                    ElasticNet(random_state=seed, alpha=.0005, tol=0.1)\n",
    "                 ))\n",
    "\n",
    "pipelines.append(\n",
    "                (\"RF_reg\",\n",
    "                 Pipeline([\n",
    "                     \n",
    "                     (\"RF\", RandomForestRegressor(random_state=seed))]\n",
    "                 )))\n",
    "\n",
    "pipelines.append(\n",
    "                (\"ET_reg\",\n",
    "                 ExtraTreesRegressor(random_state=seed)\n",
    "                 ))\n",
    "\n",
    "pipelines.append(\n",
    "                (\"Scaled_BR_reg\",\n",
    "                 BaggingRegressor(random_state=seed)\n",
    "                 )) \n",
    "\n",
    "pipelines.append(\n",
    "                (\"Hub-Reg\",\n",
    "                 HuberRegressor()\n",
    "                 ))\n",
    "\n",
    "pipelines.append(\n",
    "                (\"BayRidge\",\n",
    "                 BayesianRidge()\n",
    "                 )) \n",
    "\n",
    "pipelines.append(\n",
    "                (\"XGB_reg\",\n",
    "                 XGBRegressor(seed=seed, n_estimators=300)\n",
    "                 )) \n",
    "\n",
    "pipelines.append(\n",
    "                (\"DT_reg\",\n",
    "                     DecisionTreeRegressor()\n",
    "                 )) \n",
    "\n",
    "\"\"\"pipelines.append(\n",
    "                (\"Scaled_SVR\",\n",
    "                 Pipeline([\n",
    "                     (\"Scaler\", StandardScaler()),\n",
    "                     (\"SVR\",  SVR(kernel='linear', C=1e3, degree=2))]\n",
    "                 )))\"\"\"\n",
    "\n",
    "pipelines.append(\n",
    "                (\"KNN_reg\",\n",
    "                     KNeighborsRegressor()\n",
    "                ))\n",
    "pipelines.append(\n",
    "                (\"ADA-Reg\",\n",
    "                 AdaBoostRegressor()\n",
    "                )) \n",
    "\n",
    "pipelines.append(\n",
    "                (\"Gboost-Reg\",\n",
    "                 GradientBoostingRegressor()))\n",
    "pipelines.append(\n",
    "                (\"LGBM\",\n",
    "                 LGBMRegressor()\n",
    "                ))\n",
    "\n",
    "pipelines.append(\n",
    "                (\"RFR_PCA\",\n",
    "                 Pipeline([\n",
    "                     (\"PCA\", PCA(n_components=3)),\n",
    "                     (\"XGB\", RandomForestRegressor())]\n",
    "                 )))\n",
    "\n",
    "pipelines.append(\n",
    "                (\"XGBR_PCA\",\n",
    "                 Pipeline([\n",
    "                     (\"PCA\", PCA(n_components=3)),\n",
    "                     (\"XGB\", XGBRegressor())]\n",
    "                 )))\n",
    "\n",
    "#'neg_mean_absolute_error', 'neg_mean_squared_error','r2'\n",
    "scoring = 'r2'\n",
    "n_folds = 7\n",
    "\n",
    "results, names  = [], [] \n",
    "\n",
    "for name, model  in pipelines:\n",
    "    kfold = KFold(n_splits=n_folds, shuffle=True, random_state=seed)\n",
    "    \n",
    "    rmse = np.sqrt(-cross_val_score(model, train, y, cv= kfold,\n",
    "                            scoring='neg_mean_squared_error', n_jobs=1))\n",
    "    \n",
    "    r2 = cross_val_score(model, train, y, cv= kfold,\n",
    "                                 scoring=\"r2\", n_jobs=1).mean()\n",
    "    names.append(name)\n",
    "    \n",
    "    results.append(rmse)    \n",
    "    \n",
    "    print(\"%s RMSE %f\" % (name,rmse.mean()))\n",
    "    print(\"%s R2 %f\" % (name, r2))\n",
    "\n",
    "    \n"
   ]
  },
  {
   "cell_type": "code",
   "execution_count": 57,
   "metadata": {},
   "outputs": [
    {
     "data": {
      "text/plain": [
       "[Text(0, 0, 'LGBM'),\n",
       " Text(0, 0, 'Ridge'),\n",
       " Text(0, 0, 'Lasso'),\n",
       " Text(0, 0, 'Elastic'),\n",
       " Text(0, 0, 'RF_reg'),\n",
       " Text(0, 0, 'ET_reg'),\n",
       " Text(0, 0, 'Scaled_BR_reg'),\n",
       " Text(0, 0, 'Hub-Reg'),\n",
       " Text(0, 0, 'BayRidge'),\n",
       " Text(0, 0, 'XGB_reg'),\n",
       " Text(0, 0, 'DT_reg'),\n",
       " Text(0, 0, 'KNN_reg'),\n",
       " Text(0, 0, 'ADA-Reg'),\n",
       " Text(0, 0, 'Gboost-Reg'),\n",
       " Text(0, 0, 'LGBM'),\n",
       " Text(0, 0, 'RFR_PCA')]"
      ]
     },
     "execution_count": 57,
     "metadata": {},
     "output_type": "execute_result"
    },
    {
     "data": {
      "image/png": "[encoded data removed]",
      "text/plain": [
       "<Figure size 1440x432 with 1 Axes>"
      ]
     },
     "metadata": {
      "needs_background": "light"
     },
     "output_type": "display_data"
    }
   ],
   "source": [
    "import seaborn as sns\n",
    "import matplotlib.pyplot as plt\n",
    "fig = plt.figure(figsize=(20, 6))\n",
    "n = []\n",
    "for x in range(len(names)): n += [[names[x],results[x][y]] for y in range(7)]\n",
    "model_df = pd.DataFrame(n,columns=[\"name\",\"result\"])\n",
    "ax = sns.boxplot(data=model_df, x=\"name\", y='result')\n",
    "ax.set_xticklabels(names)\n",
    "ax.set_xlabel(\"Algorithmn Name\", fontsize=20)\n",
    "ax.set_ylabel(\"R Squared Score of Models\", fontsize=18)\n",
    "ax.set_xticklabels(ax.get_xticklabels(),rotation=45)"
   ]
  },
  {
   "cell_type": "code",
   "execution_count": 143,
   "metadata": {},
   "outputs": [
    {
     "name": "stdout",
     "output_type": "stream",
     "text": [
      "RMSE :  0.205791\n"
     ]
    }
   ],
   "source": [
    "from sklearn.metrics import mean_squared_error as MSE\n",
    "predictions = sub[\"Pred\"]\n",
    "y_test = np.log1p(pd.read_csv(\"../output/lgb_submission.csv\")[\"Pred\"])\n",
    "rmse = np.sqrt(MSE(y_test, predictions)) \n",
    "print(\"RMSE : % f\" %(rmse)) "
   ]
  },
  {
   "cell_type": "code",
   "execution_count": null,
   "metadata": {},
   "outputs": [],
   "source": []
  }
 ],
 "metadata": {
  "kernelspec": {
   "display_name": "Python 3",
   "language": "python",
   "name": "python3"
  },
  "language_info": {
   "codemirror_mode": {
    "name": "ipython",
    "version": 3
   },
   "file_extension": ".py",
   "mimetype": "text/x-python",
   "name": "python",
   "nbconvert_exporter": "python",
   "pygments_lexer": "ipython3",
   "version": "3.8.4"
  }
 },
 "nbformat": 4,
 "nbformat_minor": 4
}
