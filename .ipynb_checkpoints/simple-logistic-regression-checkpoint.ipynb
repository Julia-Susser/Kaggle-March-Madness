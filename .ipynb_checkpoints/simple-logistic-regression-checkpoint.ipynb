{
 "cells": [
  {
   "cell_type": "code",
   "execution_count": 1,
   "metadata": {
    "_uuid": "3672e6b5e76d3b6b707888e2b083b44e6acf3774"
   },
   "outputs": [],
   "source": [
    "import numpy as np\n",
    "import pandas as pd\n",
    "import scipy as sp\n",
    "import matplotlib.pyplot as plt\n",
    "\n",
    "from sklearn.linear_model import LogisticRegression\n",
    "from sklearn.metrics import log_loss"
   ]
  },
  {
   "cell_type": "code",
   "execution_count": 3,
   "metadata": {
    "_uuid": "bfc77439933e34bbb0b4940120acf9377212653a"
   },
   "outputs": [],
   "source": [
    "season_result = pd.read_csv('../input/MRegularSeasonCompactResults.csv')\n",
    "tourney_result = pd.read_csv('../input/MNCAATourneyCompactResults.csv')\n",
    "sample_submission = pd.read_csv('../input/MSampleSubmissionStage1.csv')"
   ]
  },
  {
   "cell_type": "markdown",
   "metadata": {
    "_uuid": "4e2922077ba5312ca4669a6c780cc19f2f9b8e52"
   },
   "source": [
    "## Add feature"
   ]
  },
  {
   "cell_type": "code",
   "execution_count": 4,
   "metadata": {
    "_uuid": "bb8097ad0d16578189c42e45c0199a7336efb860"
   },
   "outputs": [],
   "source": [
    "team_list = sorted(set(season_result.WTeamID) | set(season_result.LTeamID))\n",
    "n_teams = len(team_list)\n",
    "team_to_int = {t: i for i, t in enumerate(team_list)}\n",
    "\n",
    "season_result['team_a'] = season_result.WTeamID.apply(team_to_int.get)\n",
    "season_result['team_b'] = season_result.LTeamID.apply(team_to_int.get)\n",
    "season_result['log_ratio'] = np.log(season_result.WScore / season_result.LScore)\n",
    "\n",
    "tourney_result['team_a'] = tourney_result.WTeamID.apply(team_to_int.get)\n",
    "tourney_result['team_b'] = tourney_result.LTeamID.apply(team_to_int.get)\n",
    "\n",
    "sample_submission['team_a'] = sample_submission.ID.apply(lambda a: team_to_int[int(a.split('_')[1])])\n",
    "sample_submission['team_b'] = sample_submission.ID.apply(lambda a: team_to_int[int(a.split('_')[2])])"
   ]
  },
  {
   "cell_type": "code",
   "execution_count": 5,
   "metadata": {
    "_uuid": "4078a821a0ba22bb9c6dfa14944cffde59d662a3"
   },
   "outputs": [],
   "source": [
    "def encode_team(d):\n",
    "    n_samples = d.shape[0]\n",
    "    a = np.arange(n_samples)\n",
    "    x = sp.sparse.lil_matrix((n_samples, n_teams))\n",
    "    x[a, d.team_a] = 1\n",
    "    x[a, d.team_b] = -1\n",
    "    return x"
   ]
  },
  {
   "cell_type": "markdown",
   "metadata": {
    "_uuid": "f41411fdb6173b6a19dbf565ea49a756096520ea"
   },
   "source": [
    "## Find best model"
   ]
  },
  {
   "cell_type": "markdown",
   "metadata": {
    "_uuid": "93fe7f589c560723ac6c6de4cff0358388d344f1"
   },
   "source": [
    "### Logistic Regression"
   ]
  },
  {
   "cell_type": "code",
   "execution_count": 6,
   "metadata": {
    "_uuid": "1e6087c3f9da28b8d9cead91f25e1e165146bf43"
   },
   "outputs": [],
   "source": [
    "def cv_w_c(year_list, w_list, c_list):\n",
    "    loss_array = np.zeros((len(year_list), len(w_list), len(c_list)))\n",
    "    for i, year in enumerate(year_list):\n",
    "        sr = season_result[season_result.Season == year]\n",
    "        x_sr = encode_team(sr)\n",
    "        y_sr = np.ones(x_sr.shape[0], dtype=np.int64)\n",
    "        x_train = sp.sparse.vstack([x_sr, -x_sr])\n",
    "        y_train = np.concatenate([y_sr, -y_sr])\n",
    "        log_ratio = np.concatenate([sr.log_ratio, sr.log_ratio])\n",
    "\n",
    "        tr = tourney_result[tourney_result.Season == year]\n",
    "        x_tr = encode_team(tr)\n",
    "        y_tr = np.ones(x_tr.shape[0], dtype=np.int64)\n",
    "        x_test = sp.sparse.vstack([x_tr, -x_tr])\n",
    "        y_test = np.concatenate([y_tr, -y_tr])\n",
    "\n",
    "        for j, w in enumerate(w_list):\n",
    "            if w is None:\n",
    "                w_train = None\n",
    "            else:\n",
    "                w_train = w * log_ratio.min() + log_ratio\n",
    "            for k, c in enumerate(c_list):\n",
    "                cls = LogisticRegression(C=c)\n",
    "                cls.fit(x_train, y_train, w_train)\n",
    "                col = list(cls.classes_).index(1)\n",
    "                y_pred = cls.predict_proba(x_test)[:, col]\n",
    "                loss = log_loss(y_test, y_pred)\n",
    "                loss_array[i, j, k] = loss\n",
    "\n",
    "    return loss_array.mean(0)"
   ]
  },
  {
   "cell_type": "code",
   "execution_count": 7,
   "metadata": {
    "_uuid": "e003bee8fa38af083429afba99465492a5a3c8c8"
   },
   "outputs": [],
   "source": [
    "def find_c(year_list, w, c_list):\n",
    "    w_list = [w]\n",
    "    loss_array = cv_w_c(year_list, w_list, c_list)\n",
    "    a = divmod(loss_array.argmin(), loss_array.shape[-1])\n",
    "    print('c_list={}'.format(c_list))\n",
    "    print('w={} c={} loss={}'.format(w_list[a[0]], c_list[a[1]], loss_array[a]))\n",
    "    plt.plot(c_list, loss_array[a[0], :])\n",
    "    plt.show()"
   ]
  },
  {
   "cell_type": "code",
   "execution_count": 8,
   "metadata": {
    "_uuid": "1712c4f37e92968fa17c8c34a889ca9da16f0b50"
   },
   "outputs": [],
   "source": [
    "year_list = range(2010, 2018)"
   ]
  },
  {
   "cell_type": "code",
   "execution_count": 9,
   "metadata": {
    "_uuid": "28de259ad6b47b92d0db3115b035196d6e7a0740"
   },
   "outputs": [
    {
     "name": "stderr",
     "output_type": "stream",
     "text": [
      "/Library/Frameworks/Python.framework/Versions/3.8/lib/python3.8/site-packages/sklearn/linear_model/_logistic.py:763: ConvergenceWarning: lbfgs failed to converge (status=1):\n",
      "STOP: TOTAL NO. of ITERATIONS REACHED LIMIT.\n",
      "\n",
      "Increase the number of iterations (max_iter) or scale the data as shown in:\n",
      "    https://scikit-learn.org/stable/modules/preprocessing.html\n",
      "Please also refer to the documentation for alternative solver options:\n",
      "    https://scikit-learn.org/stable/modules/linear_model.html#logistic-regression\n",
      "  n_iter_i = _check_optimize_result(\n",
      "/Library/Frameworks/Python.framework/Versions/3.8/lib/python3.8/site-packages/sklearn/linear_model/_logistic.py:763: ConvergenceWarning: lbfgs failed to converge (status=1):\n",
      "STOP: TOTAL NO. of ITERATIONS REACHED LIMIT.\n",
      "\n",
      "Increase the number of iterations (max_iter) or scale the data as shown in:\n",
      "    https://scikit-learn.org/stable/modules/preprocessing.html\n",
      "Please also refer to the documentation for alternative solver options:\n",
      "    https://scikit-learn.org/stable/modules/linear_model.html#logistic-regression\n",
      "  n_iter_i = _check_optimize_result(\n"
     ]
    },
    {
     "name": "stdout",
     "output_type": "stream",
     "text": [
      "c_list=[1.00000000e-03 1.99526231e-03 3.98107171e-03 7.94328235e-03\n",
      " 1.58489319e-02 3.16227766e-02 6.30957344e-02 1.25892541e-01\n",
      " 2.51188643e-01 5.01187234e-01 1.00000000e+00 1.99526231e+00\n",
      " 3.98107171e+00 7.94328235e+00 1.58489319e+01 3.16227766e+01\n",
      " 6.30957344e+01 1.25892541e+02 2.51188643e+02 5.01187234e+02\n",
      " 1.00000000e+03]\n",
      "w=None c=1.0 loss=0.5722210323160458\n"
     ]
    },
    {
     "data": {
      "image/png": "[encoded data removed]",
      "text/plain": [
       "<Figure size 432x288 with 1 Axes>"
      ]
     },
     "metadata": {
      "needs_background": "light"
     },
     "output_type": "display_data"
    }
   ],
   "source": [
    "find_c(year_list, None, np.logspace(-3, 3, 21))"
   ]
  },
  {
   "cell_type": "code",
   "execution_count": 10,
   "metadata": {
    "_uuid": "12c5f4aa446632e022c366927728c43eea1ae3c2"
   },
   "outputs": [
    {
     "name": "stdout",
     "output_type": "stream",
     "text": [
      "c_list=[0.5 0.6 0.7 0.8 0.9 1.  1.1 1.2 1.3 1.4 1.5 1.6 1.7 1.8 1.9 2. ]\n",
      "w=None c=1.1 loss=0.572189611691259\n"
     ]
    },
    {
     "data": {
      "image/png": "[encoded data removed]",
      "text/plain": [
       "<Figure size 432x288 with 1 Axes>"
      ]
     },
     "metadata": {
      "needs_background": "light"
     },
     "output_type": "display_data"
    }
   ],
   "source": [
    "find_c(year_list, None, np.linspace(0.5, 2, 16))"
   ]
  },
  {
   "cell_type": "markdown",
   "metadata": {
    "_uuid": "a9595717438ea7b613f99325ab338339acddd579"
   },
   "source": [
    "### Weighted Logistic Regression"
   ]
  },
  {
   "cell_type": "code",
   "execution_count": 11,
   "metadata": {
    "_uuid": "b42ed4c6470d51967180789732963c374a803ce6"
   },
   "outputs": [],
   "source": [
    "def find_w(year_list, w_list, c_list):\n",
    "    loss_array = cv_w_c(year_list, w_list, c_list)\n",
    "    a = divmod(loss_array.argmin(), loss_array.shape[-1])\n",
    "    print('w_list={}'.format(w_list))\n",
    "    print('w={} c={} loss={}'.format(w_list[a[0]], c_list[a[1]], loss_array[a]))\n",
    "    plt.plot(w_list, loss_array[:, a[1]])\n",
    "    plt.show()"
   ]
  },
  {
   "cell_type": "code",
   "execution_count": 12,
   "metadata": {
    "_uuid": "a26e74bb2bde82c9f30c6f13be264651171c750c"
   },
   "outputs": [
    {
     "name": "stderr",
     "output_type": "stream",
     "text": [
      "/Library/Frameworks/Python.framework/Versions/3.8/lib/python3.8/site-packages/sklearn/linear_model/_logistic.py:763: ConvergenceWarning: lbfgs failed to converge (status=1):\n",
      "STOP: TOTAL NO. of ITERATIONS REACHED LIMIT.\n",
      "\n",
      "Increase the number of iterations (max_iter) or scale the data as shown in:\n",
      "    https://scikit-learn.org/stable/modules/preprocessing.html\n",
      "Please also refer to the documentation for alternative solver options:\n",
      "    https://scikit-learn.org/stable/modules/linear_model.html#logistic-regression\n",
      "  n_iter_i = _check_optimize_result(\n"
     ]
    },
    {
     "name": "stdout",
     "output_type": "stream",
     "text": [
      "w_list=[ 0.          0.1         0.16681005  0.27825594  0.46415888  0.77426368\n",
      "  1.29154967  2.15443469  3.59381366  5.9948425  10.        ]\n",
      "w=2.1544346900318834 c=3.981071705534969 loss=0.5614642936626082\n"
     ]
    },
    {
     "data": {
      "image/png": "[encoded data removed]",
      "text/plain": [
       "<Figure size 432x288 with 1 Axes>"
      ]
     },
     "metadata": {
      "needs_background": "light"
     },
     "output_type": "display_data"
    }
   ],
   "source": [
    "find_w(year_list,\n",
    "       np.concatenate([np.zeros(1), np.logspace(-1, 1, 10)]),\n",
    "       np.logspace(-3, 3, 21))"
   ]
  },
  {
   "cell_type": "code",
   "execution_count": null,
   "metadata": {
    "_uuid": "992d6b4529e045a89a63b4ff39fd6cdfe57b215e"
   },
   "outputs": [],
   "source": [
    "find_w(year_list,\n",
    "       np.linspace(1, 4, 7),\n",
    "       np.logspace(-3, 3, 21))"
   ]
  },
  {
   "cell_type": "code",
   "execution_count": null,
   "metadata": {
    "_uuid": "bfaebe04e37190985c8c7d8eac99c7d3556c0836"
   },
   "outputs": [],
   "source": [
    "find_c(year_list, 2.5, np.linspace(2, 8, 31))"
   ]
  },
  {
   "cell_type": "markdown",
   "metadata": {
    "_uuid": "94814e6db7fce014ba50f4d09be6f978f339b679"
   },
   "source": [
    "## Make predication"
   ]
  },
  {
   "cell_type": "code",
   "execution_count": null,
   "metadata": {
    "_uuid": "22b74d2162bf805d24d61f9d133fe4193d2f9a8b"
   },
   "outputs": [],
   "source": [
    "def predict(w, c, filename):\n",
    "    year = 2018\n",
    "\n",
    "    sr = season_result[season_result.Season == year]\n",
    "    x_sr = encode_team(sr)\n",
    "    y_sr = np.ones(x_sr.shape[0], dtype=np.int64)\n",
    "    x_train = sp.sparse.vstack([x_sr, -x_sr])\n",
    "    y_train = np.concatenate([y_sr, -y_sr])\n",
    "    log_ratio = np.concatenate([sr.log_ratio, sr.log_ratio])\n",
    "\n",
    "    x_test = encode_team(sample_submission)\n",
    "\n",
    "    if w is None:\n",
    "        w_train = None\n",
    "    else:\n",
    "        w_train = w * log_ratio.min() + log_ratio\n",
    "\n",
    "    cls = LogisticRegression(C=c)\n",
    "    cls.fit(x_train, y_train, w_train)\n",
    "    col = list(cls.classes_).index(1)\n",
    "    y_pred = cls.predict_proba(x_test)[:, col]\n",
    "\n",
    "    submission = pd.DataFrame()\n",
    "    submission['ID'] = sample_submission.ID\n",
    "    submission['Pred'] = y_pred\n",
    "    submission.to_csv(filename, index=False)\n",
    "\n",
    "    return cls"
   ]
  },
  {
   "cell_type": "code",
   "execution_count": null,
   "metadata": {
    "_uuid": "1e10b378a6d4bad545269239adf716b6bf38ebae"
   },
   "outputs": [],
   "source": [
    "lr = predict(w=None, c=1.1, filename='predict_with_logistic.csv')\n",
    "wlr = predict(w=2.5, c=3.6, filename='predict_with_weighted_logistic.csv')"
   ]
  },
  {
   "cell_type": "markdown",
   "metadata": {
    "_uuid": "b5fe803448e76b38f9ead9854f01f1f4cf48c242"
   },
   "source": [
    "## Team score"
   ]
  },
  {
   "cell_type": "code",
   "execution_count": null,
   "metadata": {
    "_uuid": "7dfa8835dd6aee41f10ac46df4c9e858994b5858"
   },
   "outputs": [],
   "source": [
    "team_score = wlr.coef_[0]\n",
    "tourney_teams = sorted(set(sample_submission.team_a) | set(sample_submission.team_b))"
   ]
  },
  {
   "cell_type": "code",
   "execution_count": null,
   "metadata": {
    "_uuid": "7657f05f8e616793ef2afe014b2232686233adc9"
   },
   "outputs": [],
   "source": [
    "plt.hist(team_score)\n",
    "plt.show()"
   ]
  },
  {
   "cell_type": "code",
   "execution_count": null,
   "metadata": {
    "_uuid": "2a1e77a4cd50f6725f140438d6f4f0cb51cc829f"
   },
   "outputs": [],
   "source": [
    "plt.hist(team_score[tourney_teams])\n",
    "plt.show()"
   ]
  },
  {
   "cell_type": "code",
   "execution_count": null,
   "metadata": {},
   "outputs": [],
   "source": []
  }
 ],
 "metadata": {
  "kernelspec": {
   "display_name": "Python 3",
   "language": "python",
   "name": "python3"
  },
  "language_info": {
   "codemirror_mode": {
    "name": "ipython",
    "version": 3
   },
   "file_extension": ".py",
   "mimetype": "text/x-python",
   "name": "python",
   "nbconvert_exporter": "python",
   "pygments_lexer": "ipython3",
   "version": "3.8.4"
  }
 },
 "nbformat": 4,
 "nbformat_minor": 1
}
