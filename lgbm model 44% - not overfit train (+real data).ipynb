{
 "cells": [
  {
   "cell_type": "code",
   "execution_count": 242,
   "metadata": {},
   "outputs": [],
   "source": [
    "import pandas as pd\n",
    "import os\n",
    "os.chdir(\"../input\")"
   ]
  },
  {
   "cell_type": "code",
   "execution_count": 243,
   "metadata": {},
   "outputs": [],
   "source": [
    "tf = pd.read_csv(\"MTeams.csv\")\n",
    "cities_df = pd.read_csv(\"Cities.csv\")\n"
   ]
  },
  {
   "cell_type": "code",
   "execution_count": 244,
   "metadata": {},
   "outputs": [],
   "source": [
    "#rf.WLoc = rf[\"WLoc\"].replace(\"N\",0).replace(\"H\",1).replace(\"A\",0)\n",
    "#rf[\"score\"] = .5 + (rf[\"WScore\"]-rf[\"LScore\"])*2/(rf[\"WScore\"]) - rf.WLoc/20\n",
    "#rf.score = rf.score.apply(lambda x: min(x,1)).apply(lambda x: max(x,.5))\n",
    "#X = X.select_dtypes(\"int\")"
   ]
  },
  {
   "cell_type": "code",
   "execution_count": 245,
   "metadata": {},
   "outputs": [],
   "source": [
    "def convert_int(x):\n",
    "    try:\n",
    "        return int(x)\n",
    "    except ValueError:\n",
    "        return int(x[:-1])"
   ]
  },
  {
   "cell_type": "code",
   "execution_count": 272,
   "metadata": {},
   "outputs": [],
   "source": [
    "import random\n",
    "train = pd.read_csv(\"MNCAATourneyCompactResults.csv\")\n",
    "seed_df = pd.read_csv(\"MNCAATourneySeeds.csv\")\n",
    "train = train.rename(columns={\"WTeamID\":\"ATeamID\",\"WScore\":\"AScore\",\"LTeamID\":\"BTeamID\",\"LScore\":\"BScore\"})\n",
    "train[\"y\"] = 1"
   ]
  },
  {
   "cell_type": "code",
   "execution_count": 273,
   "metadata": {},
   "outputs": [],
   "source": [
    "\n",
    "split = [True if random.randint(0,1)==1 else False for x in range(len(train))]\n",
    "train[\"split\"] = split\n",
    "switch_train = train[~train[\"split\"]].drop(columns=[\"split\"])\n",
    "train = train[train[\"split\"]].drop(columns=[\"split\"])\n",
    "switch_train = switch_train.rename(columns={\"BLoc\":\"ALoc\",\"ATeamID\":\"BTeamID\",\"AScore\":\"BScore\",\"BTeamID\":\"ATeamID\",\"BScore\":\"AScore\"})"
   ]
  },
  {
   "cell_type": "code",
   "execution_count": 274,
   "metadata": {},
   "outputs": [],
   "source": [
    "#switch_train = train.copy() #- OVERFIT\n",
    "#switch_train = switch_train.rename(columns={\"BLoc\":\"ALoc\",\"ATeamID\":\"BTeamID\",\"AScore\":\"BScore\",\"BTeamID\":\"ATeamID\",\"BScore\":\"AScore\"})"
   ]
  },
  {
   "cell_type": "code",
   "execution_count": 275,
   "metadata": {},
   "outputs": [],
   "source": [
    "switch_train.y = 0\n",
    "train = pd.concat([train,switch_train])\n",
    "train = train.merge(seed_df, left_on=[\"ATeamID\",\"Season\"], right_on=[\"TeamID\",\"Season\"])\n",
    "train = train.merge(seed_df, left_on=[\"BTeamID\",\"Season\"], right_on=[\"TeamID\",\"Season\"])\n",
    "train = train.rename(columns={\"Seed_x\":\"ASeed\",\"Seed_y\":\"BSeed\"}).drop(columns=[\"TeamID_x\",\"TeamID_y\"])\n",
    "train.loc[:,[\"AZone\",\"ASeed\"]] = list(train.ASeed.apply(lambda x: [x[0],convert_int(x[1:])]))\n",
    "train.loc[:,[\"BZone\",\"BSeed\"]] = list(train.BSeed.apply(lambda x: [x[0],convert_int(x[1:])]))"
   ]
  },
  {
   "cell_type": "code",
   "execution_count": 276,
   "metadata": {},
   "outputs": [],
   "source": [
    "y_train = train[\"y\"]\n",
    "train = train[[\"Season\",\"ATeamID\",\"BTeamID\",\"ASeed\",\"BSeed\"]] #,\"AZone\",\"BZone\"\n"
   ]
  },
  {
   "cell_type": "code",
   "execution_count": 277,
   "metadata": {},
   "outputs": [],
   "source": [
    "#X[[\"ATeamID\",\"BTeamID\"]] = X[[\"ATeamID\",\"BTeamID\"]].astype(\"object\")\n",
    "#X[[\"ATeamID\",\"BTeamID\"]] = X[[\"ATeamID\",\"BTeamID\"]].astype(\"object\")\n",
    "test = pd.read_csv(\"../input/MSampleSubmissionStage1.csv\")\n",
    "test_ID = test.ID\n",
    "test = pd.DataFrame(list(test.ID.apply(lambda x: x.split(\"_\"))), test_ID, columns=[\"Season\",\"ATeamID\",\"BTeamID\"]).astype(\"int\").reset_index()\n",
    "test = test.merge(seed_df, left_on=[\"ATeamID\",\"Season\"], right_on=[\"TeamID\",\"Season\"])\n",
    "test = test.merge(seed_df, left_on=[\"BTeamID\",\"Season\"], right_on=[\"TeamID\",\"Season\"])\n",
    "test = test.rename(columns={\"Seed_x\":\"ASeed\",\"Seed_y\":\"BSeed\"}).drop(columns=[\"TeamID_x\",\"TeamID_y\"])\n",
    "test.loc[:,[\"AZone\",\"ASeed\"]] = list(test.ASeed.apply(lambda x: [x[0],convert_int(x[1:])]))\n",
    "test.loc[:,[\"BZone\",\"BSeed\"]] = list(test.BSeed.apply(lambda x: [x[0],convert_int(x[1:])]))\n",
    "test = test.set_index(\"ID\").loc[test_ID]\n",
    "\n",
    "test = test[[\"Season\",\"ATeamID\",\"BTeamID\",\"ASeed\",\"BSeed\"]]\n",
    "\n",
    "\n"
   ]
  },
  {
   "cell_type": "code",
   "execution_count": 278,
   "metadata": {},
   "outputs": [],
   "source": [
    "X = pd.concat([train,test])\n",
    "X = pd.get_dummies(X)\n",
    "train = X.iloc[:len(y_train)]\n",
    "test = X.iloc[len(y_train):]"
   ]
  },
  {
   "cell_type": "code",
   "execution_count": 279,
   "metadata": {},
   "outputs": [],
   "source": [
    "from sklearn.utils import shuffle\n",
    "train, y_train = shuffle(train, y_train)\n"
   ]
  },
  {
   "cell_type": "code",
   "execution_count": 280,
   "metadata": {},
   "outputs": [],
   "source": [
    "#X[X.isnull().any(axis=1)]"
   ]
  },
  {
   "cell_type": "code",
   "execution_count": 281,
   "metadata": {},
   "outputs": [
    {
     "data": {
      "text/plain": [
       "array([0.43220734, 0.45246755, 0.44262991, 0.49937151, 0.48361559,\n",
       "       0.47039382, 0.451105  , 0.46305372, 0.44672685, 0.45010607])"
      ]
     },
     "execution_count": 281,
     "metadata": {},
     "output_type": "execute_result"
    }
   ],
   "source": [
    "import numpy as np\n",
    "from lightgbm import LGBMRegressor\n",
    "from xgboost import XGBRegressor\n",
    "from sklearn.linear_model import Lasso\n",
    "from sklearn.model_selection import KFold, cross_val_score, train_test_split \n",
    "from sklearn.pipeline import Pipeline, make_pipeline\n",
    "from sklearn.preprocessing import LabelEncoder, RobustScaler, OneHotEncoder, StandardScaler # Preprocessing\n",
    "seed = 5\n",
    "n_folds =5\n",
    "scoring='neg_mean_squared_error'\n",
    "model = LGBMRegressor()\n",
    "kfold = KFold(n_splits=10, shuffle=True, random_state=seed)\n",
    "np.sqrt(-cross_val_score(model, train, y_train, cv= kfold,\n",
    "                                 scoring=scoring, n_jobs=1))"
   ]
  },
  {
   "cell_type": "code",
   "execution_count": 282,
   "metadata": {},
   "outputs": [
    {
     "data": {
      "text/plain": [
       "LGBMRegressor()"
      ]
     },
     "execution_count": 282,
     "metadata": {},
     "output_type": "execute_result"
    }
   ],
   "source": [
    "model.fit(train, y_train)"
   ]
  },
  {
   "cell_type": "code",
   "execution_count": 178,
   "metadata": {},
   "outputs": [],
   "source": [
    "import pickle\n",
    "pkl_filename = \"../output/lgbm.pkl\"\n",
    "with open(pkl_filename, 'wb') as file:\n",
    "    pickle.dump(model, file)"
   ]
  },
  {
   "cell_type": "code",
   "execution_count": 283,
   "metadata": {},
   "outputs": [],
   "source": [
    "finalPred = model.predict(test)\n",
    "finalPred = [min(max(x,0),1) for x in finalPred]"
   ]
  },
  {
   "cell_type": "code",
   "execution_count": 284,
   "metadata": {},
   "outputs": [],
   "source": [
    "sub = pd.DataFrame()\n",
    "sub['ID'] = test_ID\n",
    "sub['Pred'] = finalPred\n",
    "#sub.to_csv('../output/lgb_submission.csv',index=False)"
   ]
  },
  {
   "cell_type": "code",
   "execution_count": 285,
   "metadata": {},
   "outputs": [
    {
     "name": "stdout",
     "output_type": "stream",
     "text": [
      "RMSE :  0.214457\n"
     ]
    }
   ],
   "source": [
    "from sklearn.metrics import mean_squared_error as MSE\n",
    "predictions = sub[\"Pred\"]\n",
    "y_test = np.log1p(pd.read_csv(\"../output/lgb_submission.csv\")[\"Pred\"])\n",
    "rmse = np.sqrt(MSE(y_test, predictions)) \n",
    "print(\"RMSE : % f\" %(rmse)) "
   ]
  },
  {
   "cell_type": "markdown",
   "metadata": {},
   "source": [
    "# Add in Real Data to model Data"
   ]
  },
  {
   "cell_type": "code",
   "execution_count": 155,
   "metadata": {},
   "outputs": [],
   "source": [
    "train = pd.read_csv(\"MNCAATourneyCompactResults.csv\")\n",
    "train.WLoc = train[\"WLoc\"].replace(\"N\",0).replace(\"H\",1).replace(\"A\",0)\n",
    "train[\"score\"] = .5 + (train[\"WScore\"]-train[\"LScore\"])*2/(train[\"WScore\"]) - train.WLoc/20\n",
    "train.score = train.score.apply(lambda x: min(x,1)).apply(lambda x: max(x,.5))\n",
    "train = train.rename(columns={\"WTeamID\":\"ATeamID\",\"LTeamID\":\"BTeamID\"})[[\"Season\",\"ATeamID\",\"BTeamID\",\"score\"]]\n",
    "\n",
    "switch_train = train.rename(columns={\"ATeamID\":\"BTeamID\",\"BTeamID\":\"ATeamID\"})\n",
    "switch_train[\"score\"] = 1 - switch_train[\"score\"]\n",
    "train = pd.concat([train,switch_train])\n",
    "\n",
    "real=test.reset_index().merge(train, on=[\"ATeamID\",\"BTeamID\",\"Season\"])\n",
    "real = real.groupby([\"ATeamID\",\"BTeamID\",\"Season\"]).agg({\"score\":'mean','index':'first'}).reset_index()"
   ]
  },
  {
   "cell_type": "code",
   "execution_count": 158,
   "metadata": {},
   "outputs": [
    {
     "data": {
      "text/html": [
       "<div>\n",
       "<style scoped>\n",
       "    .dataframe tbody tr th:only-of-type {\n",
       "        vertical-align: middle;\n",
       "    }\n",
       "\n",
       "    .dataframe tbody tr th {\n",
       "        vertical-align: top;\n",
       "    }\n",
       "\n",
       "    .dataframe thead th {\n",
       "        text-align: right;\n",
       "    }\n",
       "</style>\n",
       "<table border=\"1\" class=\"dataframe\">\n",
       "  <thead>\n",
       "    <tr style=\"text-align: right;\">\n",
       "      <th></th>\n",
       "      <th>Pred</th>\n",
       "    </tr>\n",
       "    <tr>\n",
       "      <th>ID</th>\n",
       "      <th></th>\n",
       "    </tr>\n",
       "  </thead>\n",
       "  <tbody>\n",
       "    <tr>\n",
       "      <th>2015_1107_1112</th>\n",
       "      <td>0.000000</td>\n",
       "    </tr>\n",
       "    <tr>\n",
       "      <th>2015_1107_1116</th>\n",
       "      <td>0.000000</td>\n",
       "    </tr>\n",
       "    <tr>\n",
       "      <th>2015_1107_1124</th>\n",
       "      <td>0.000000</td>\n",
       "    </tr>\n",
       "    <tr>\n",
       "      <th>2015_1107_1125</th>\n",
       "      <td>0.384215</td>\n",
       "    </tr>\n",
       "    <tr>\n",
       "      <th>2015_1107_1129</th>\n",
       "      <td>0.183506</td>\n",
       "    </tr>\n",
       "    <tr>\n",
       "      <th>...</th>\n",
       "      <td>...</td>\n",
       "    </tr>\n",
       "    <tr>\n",
       "      <th>2019_1449_1459</th>\n",
       "      <td>0.289626</td>\n",
       "    </tr>\n",
       "    <tr>\n",
       "      <th>2019_1449_1463</th>\n",
       "      <td>0.733976</td>\n",
       "    </tr>\n",
       "    <tr>\n",
       "      <th>2019_1458_1459</th>\n",
       "      <td>0.286167</td>\n",
       "    </tr>\n",
       "    <tr>\n",
       "      <th>2019_1458_1463</th>\n",
       "      <td>0.547760</td>\n",
       "    </tr>\n",
       "    <tr>\n",
       "      <th>2019_1459_1463</th>\n",
       "      <td>0.642577</td>\n",
       "    </tr>\n",
       "  </tbody>\n",
       "</table>\n",
       "<p>11390 rows × 1 columns</p>\n",
       "</div>"
      ],
      "text/plain": [
       "                    Pred\n",
       "ID                      \n",
       "2015_1107_1112  0.000000\n",
       "2015_1107_1116  0.000000\n",
       "2015_1107_1124  0.000000\n",
       "2015_1107_1125  0.384215\n",
       "2015_1107_1129  0.183506\n",
       "...                  ...\n",
       "2019_1449_1459  0.289626\n",
       "2019_1449_1463  0.733976\n",
       "2019_1458_1459  0.286167\n",
       "2019_1458_1463  0.547760\n",
       "2019_1459_1463  0.642577\n",
       "\n",
       "[11390 rows x 1 columns]"
      ]
     },
     "execution_count": 158,
     "metadata": {},
     "output_type": "execute_result"
    }
   ],
   "source": [
    "\n",
    "m_test = test.drop(real[\"index\"])\n",
    "finalPred = model.predict(m_test)\n",
    "finalPred = [min(max(x,0),1) for x in finalPred]\n",
    "\n",
    "model_ID = m_test.index\n",
    "real_ID = real[\"index\"]\n",
    "\n",
    "sub = pd.DataFrame()\n",
    "sub['ID'] = list(model_ID) + list(real_ID)\n",
    "sub['Pred'] = list(finalPred) + list(real[\"score\"])\n",
    "sub.set_index(\"ID\").loc[test_ID]"
   ]
  },
  {
   "cell_type": "code",
   "execution_count": 159,
   "metadata": {},
   "outputs": [],
   "source": [
    "sub.to_csv(\"../output/LGBM-real.csv\",index=False)"
   ]
  },
  {
   "cell_type": "code",
   "execution_count": 153,
   "metadata": {},
   "outputs": [
    {
     "data": {
      "text/html": [
       "<div>\n",
       "<style scoped>\n",
       "    .dataframe tbody tr th:only-of-type {\n",
       "        vertical-align: middle;\n",
       "    }\n",
       "\n",
       "    .dataframe tbody tr th {\n",
       "        vertical-align: top;\n",
       "    }\n",
       "\n",
       "    .dataframe thead th {\n",
       "        text-align: right;\n",
       "    }\n",
       "</style>\n",
       "<table border=\"1\" class=\"dataframe\">\n",
       "  <thead>\n",
       "    <tr style=\"text-align: right;\">\n",
       "      <th></th>\n",
       "      <th>ATeamID</th>\n",
       "      <th>BTeamID</th>\n",
       "      <th>Season</th>\n",
       "      <th>y</th>\n",
       "      <th>index</th>\n",
       "    </tr>\n",
       "  </thead>\n",
       "  <tbody>\n",
       "    <tr>\n",
       "      <th>0</th>\n",
       "      <td>1101</td>\n",
       "      <td>1246</td>\n",
       "      <td>2019</td>\n",
       "      <td>0</td>\n",
       "      <td>2019_1101_1246</td>\n",
       "    </tr>\n",
       "    <tr>\n",
       "      <th>1</th>\n",
       "      <td>1104</td>\n",
       "      <td>1437</td>\n",
       "      <td>2018</td>\n",
       "      <td>0</td>\n",
       "      <td>2018_1104_1437</td>\n",
       "    </tr>\n",
       "    <tr>\n",
       "      <th>2</th>\n",
       "      <td>1104</td>\n",
       "      <td>1439</td>\n",
       "      <td>2018</td>\n",
       "      <td>1</td>\n",
       "      <td>2018_1104_1439</td>\n",
       "    </tr>\n",
       "    <tr>\n",
       "      <th>3</th>\n",
       "      <td>1107</td>\n",
       "      <td>1328</td>\n",
       "      <td>2015</td>\n",
       "      <td>0</td>\n",
       "      <td>2015_1107_1328</td>\n",
       "    </tr>\n",
       "    <tr>\n",
       "      <th>4</th>\n",
       "      <td>1112</td>\n",
       "      <td>1138</td>\n",
       "      <td>2018</td>\n",
       "      <td>0</td>\n",
       "      <td>2018_1112_1138</td>\n",
       "    </tr>\n",
       "    <tr>\n",
       "      <th>...</th>\n",
       "      <td>...</td>\n",
       "      <td>...</td>\n",
       "      <td>...</td>\n",
       "      <td>...</td>\n",
       "      <td>...</td>\n",
       "    </tr>\n",
       "    <tr>\n",
       "      <th>330</th>\n",
       "      <td>1437</td>\n",
       "      <td>1452</td>\n",
       "      <td>2018</td>\n",
       "      <td>1</td>\n",
       "      <td>2018_1437_1452</td>\n",
       "    </tr>\n",
       "    <tr>\n",
       "      <th>331</th>\n",
       "      <td>1437</td>\n",
       "      <td>1458</td>\n",
       "      <td>2017</td>\n",
       "      <td>0</td>\n",
       "      <td>2017_1437_1458</td>\n",
       "    </tr>\n",
       "    <tr>\n",
       "      <th>332</th>\n",
       "      <td>1439</td>\n",
       "      <td>1458</td>\n",
       "      <td>2017</td>\n",
       "      <td>0</td>\n",
       "      <td>2017_1439_1458</td>\n",
       "    </tr>\n",
       "    <tr>\n",
       "      <th>333</th>\n",
       "      <td>1451</td>\n",
       "      <td>1462</td>\n",
       "      <td>2016</td>\n",
       "      <td>0</td>\n",
       "      <td>2016_1451_1462</td>\n",
       "    </tr>\n",
       "    <tr>\n",
       "      <th>334</th>\n",
       "      <td>1458</td>\n",
       "      <td>1462</td>\n",
       "      <td>2016</td>\n",
       "      <td>1</td>\n",
       "      <td>2016_1458_1462</td>\n",
       "    </tr>\n",
       "  </tbody>\n",
       "</table>\n",
       "<p>335 rows × 5 columns</p>\n",
       "</div>"
      ],
      "text/plain": [
       "     ATeamID  BTeamID  Season  y           index\n",
       "0       1101     1246    2019  0  2019_1101_1246\n",
       "1       1104     1437    2018  0  2018_1104_1437\n",
       "2       1104     1439    2018  1  2018_1104_1439\n",
       "3       1107     1328    2015  0  2015_1107_1328\n",
       "4       1112     1138    2018  0  2018_1112_1138\n",
       "..       ...      ...     ... ..             ...\n",
       "330     1437     1452    2018  1  2018_1437_1452\n",
       "331     1437     1458    2017  0  2017_1437_1458\n",
       "332     1439     1458    2017  0  2017_1439_1458\n",
       "333     1451     1462    2016  0  2016_1451_1462\n",
       "334     1458     1462    2016  1  2016_1458_1462\n",
       "\n",
       "[335 rows x 5 columns]"
      ]
     },
     "execution_count": 153,
     "metadata": {},
     "output_type": "execute_result"
    }
   ],
   "source": [
    "real"
   ]
  },
  {
   "cell_type": "code",
   "execution_count": 1,
   "metadata": {},
   "outputs": [
    {
     "ename": "NameError",
     "evalue": "name 'sub' is not defined",
     "output_type": "error",
     "traceback": [
      "\u001b[0;31m---------------------------------------------------------------------------\u001b[0m",
      "\u001b[0;31mNameError\u001b[0m                                 Traceback (most recent call last)",
      "\u001b[0;32m<ipython-input-1-a02d09e73df1>\u001b[0m in \u001b[0;36m<module>\u001b[0;34m\u001b[0m\n\u001b[0;32m----> 1\u001b[0;31m \u001b[0msub\u001b[0m\u001b[0;34m.\u001b[0m\u001b[0mSeason\u001b[0m\u001b[0;34m.\u001b[0m\u001b[0munique\u001b[0m\u001b[0;34m(\u001b[0m\u001b[0;34m)\u001b[0m\u001b[0;34m\u001b[0m\u001b[0;34m\u001b[0m\u001b[0m\n\u001b[0m",
      "\u001b[0;31mNameError\u001b[0m: name 'sub' is not defined"
     ]
    }
   ],
   "source": [
    "sub.Season.unique()"
   ]
  },
  {
   "cell_type": "code",
   "execution_count": null,
   "metadata": {},
   "outputs": [],
   "source": []
  },
  {
   "cell_type": "code",
   "execution_count": null,
   "metadata": {},
   "outputs": [],
   "source": []
  }
 ],
 "metadata": {
  "kernelspec": {
   "display_name": "Python 3",
   "language": "python",
   "name": "python3"
  },
  "language_info": {
   "codemirror_mode": {
    "name": "ipython",
    "version": 3
   },
   "file_extension": ".py",
   "mimetype": "text/x-python",
   "name": "python",
   "nbconvert_exporter": "python",
   "pygments_lexer": "ipython3",
   "version": "3.8.4"
  }
 },
 "nbformat": 4,
 "nbformat_minor": 4
}
