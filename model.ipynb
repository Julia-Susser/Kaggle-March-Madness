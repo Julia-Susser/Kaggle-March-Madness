{
 "cells": [
  {
   "cell_type": "code",
   "execution_count": 24,
   "metadata": {},
   "outputs": [],
   "source": [
    "import pandas as pd\n",
    "import os\n",
    "import numpy as np\n",
    "from sklearn.utils import shuffle\n",
    "from sklearn.kernel_ridge import KernelRidge\n",
    "from sklearn.linear_model import SGDRegressor\n",
    "from sklearn.model_selection import KFold, cross_val_score, train_test_split # Model evaluation\n",
    "from sklearn.preprocessing import LabelEncoder, RobustScaler, OneHotEncoder, StandardScaler # Preprocessing\n",
    "from sklearn.linear_model import Lasso, Ridge, ElasticNet,  LassoLarsIC, RANSACRegressor, SGDRegressor, HuberRegressor, BayesianRidge # Linear models\n",
    "from sklearn.ensemble import RandomForestRegressor, BaggingRegressor, AdaBoostRegressor, GradientBoostingRegressor, ExtraTreesRegressor  # Ensemble methods\n",
    "from xgboost import XGBRegressor, XGBClassifier, plot_importance # XGBoost\n",
    "from sklearn.svm import SVR, SVC, LinearSVC  # Support Vector Regression\n",
    "from sklearn.tree import DecisionTreeRegressor # Decision Tree Regression\n",
    "from sklearn.neighbors import KNeighborsRegressor\n",
    "from sklearn.pipeline import Pipeline, make_pipeline # Streaming pipelines\n",
    "from sklearn.decomposition import KernelPCA, PCA # Dimensionality reduction\n",
    "from sklearn.feature_selection import SelectFromModel # Dimensionality reduction\n",
    "from sklearn.model_selection import learning_curve, validation_curve, GridSearchCV # Model evaluation\n",
    "from sklearn.base import clone, BaseEstimator, TransformerMixin, RegressorMixin # Clone estimator\n",
    "from sklearn.metrics import mean_squared_error as MSE\n",
    "from sklearn.metrics import explained_variance_score, median_absolute_error, r2_score, mean_squared_error #To evaluate our model\n",
    "from sklearn.metrics import accuracy_score, confusion_matrix, classification_report, fbeta_score #To evaluate our model\n",
    "from sklearn.linear_model import LinearRegression\n",
    "from lightgbm import LGBMRegressor\n",
    "from sklearn.linear_model import LogisticRegression\n",
    "\n",
    "os.chdir(\"../input\")"
   ]
  },
  {
   "cell_type": "code",
   "execution_count": 10,
   "metadata": {},
   "outputs": [],
   "source": [
    "def convert_int(x):\n",
    "    try:\n",
    "        return int(x)\n",
    "    except ValueError:\n",
    "        return int(x[:-1])"
   ]
  },
  {
   "cell_type": "code",
   "execution_count": 12,
   "metadata": {},
   "outputs": [],
   "source": [
    "train = pd.concat([pd.read_csv(\"MRegularSeasonCompactResults.csv\"),pd.read_csv(\"MNCAATourneyCompactResults.csv\")])\n",
    "seed_df = pd.read_csv(\"MNCAATourneySeeds.csv\")\n",
    "train = train.rename(columns={\"WTeamID\":\"ATeamID\",\"WScore\":\"AScore\",\"LTeamID\":\"BTeamID\",\"LScore\":\"BScore\"})"
   ]
  },
  {
   "cell_type": "code",
   "execution_count": 14,
   "metadata": {},
   "outputs": [],
   "source": [
    "split = [True if random.randint(0,1)==1 else False for x in range(len(train))]\n",
    "train[\"split\"] = split\n",
    "\n",
    "switch_train = train[~train[\"split\"]].drop(columns=[\"split\"])\n",
    "switch_train = switch_train.rename(columns={\"BLoc\":\"ALoc\",\"ATeamID\":\"BTeamID\",\"AScore\":\"BScore\",\"BTeamID\":\"ATeamID\",\"BScore\":\"AScore\"})\n",
    "\n",
    "train = train[train[\"split\"]].drop(columns=[\"split\"])\n",
    "\n",
    "train[\"y\"] = 1\n",
    "switch_train[\"y\"] = 0"
   ]
  },
  {
   "cell_type": "code",
   "execution_count": 274,
   "metadata": {},
   "outputs": [],
   "source": [
    "#switch_train = train #- OVERFIT"
   ]
  },
  {
   "cell_type": "code",
   "execution_count": 15,
   "metadata": {},
   "outputs": [],
   "source": [
    "train = pd.concat([train,switch_train])\n",
    "train = train.merge(seed_df, left_on=[\"ATeamID\",\"Season\"], right_on=[\"TeamID\",\"Season\"])\n",
    "train = train.merge(seed_df, left_on=[\"BTeamID\",\"Season\"], right_on=[\"TeamID\",\"Season\"])\n",
    "train = train.rename(columns={\"Seed_x\":\"ASeed\",\"Seed_y\":\"BSeed\"}).drop(columns=[\"TeamID_x\",\"TeamID_y\"])\n",
    "train.loc[:,[\"AZone\",\"ASeed\"]] = list(train.ASeed.apply(lambda x: [x[0],convert_int(x[1:])]))\n",
    "train.loc[:,[\"BZone\",\"BSeed\"]] = list(train.BSeed.apply(lambda x: [x[0],convert_int(x[1:])]))"
   ]
  },
  {
   "cell_type": "code",
   "execution_count": 16,
   "metadata": {},
   "outputs": [],
   "source": [
    "y_train = train[\"y\"]\n",
    "train = train[[\"Season\",\"ATeamID\",\"BTeamID\",\"ASeed\",\"BSeed\"]] #,\"AZone\",\"BZone\"\n"
   ]
  },
  {
   "cell_type": "code",
   "execution_count": 17,
   "metadata": {},
   "outputs": [],
   "source": [
    "test = pd.read_csv(\"../input/MSampleSubmissionStage1.csv\")\n",
    "test_ID = test.ID\n",
    "test = pd.DataFrame(list(test.ID.apply(lambda x: x.split(\"_\"))), test_ID, columns=[\"Season\",\"ATeamID\",\"BTeamID\"]).astype(\"int\").reset_index()\n",
    "test = test.merge(seed_df, left_on=[\"ATeamID\",\"Season\"], right_on=[\"TeamID\",\"Season\"])\n",
    "test = test.merge(seed_df, left_on=[\"BTeamID\",\"Season\"], right_on=[\"TeamID\",\"Season\"])\n",
    "test = test.rename(columns={\"Seed_x\":\"ASeed\",\"Seed_y\":\"BSeed\"}).drop(columns=[\"TeamID_x\",\"TeamID_y\"])\n",
    "test.loc[:,[\"AZone\",\"ASeed\"]] = list(test.ASeed.apply(lambda x: [x[0],convert_int(x[1:])]))\n",
    "test.loc[:,[\"BZone\",\"BSeed\"]] = list(test.BSeed.apply(lambda x: [x[0],convert_int(x[1:])]))\n",
    "test = test.set_index(\"ID\").loc[test_ID]\n",
    "test = test[[\"Season\",\"ATeamID\",\"BTeamID\",\"ASeed\",\"BSeed\"]]\n",
    "\n",
    "\n"
   ]
  },
  {
   "cell_type": "code",
   "execution_count": 18,
   "metadata": {},
   "outputs": [],
   "source": [
    "X = pd.concat([train,test])\n",
    "X = pd.get_dummies(X)\n",
    "train = X.iloc[:len(y_train)]\n",
    "test = X.iloc[len(y_train):]\n",
    "train, y_train = shuffle(train, y_train)"
   ]
  },
  {
   "cell_type": "code",
   "execution_count": 21,
   "metadata": {},
   "outputs": [],
   "source": [
    "model=LGBMRegressor()\n",
    "\n",
    "def rmse(X, y,model=model):\n",
    "    kfold = KFold(n_splits=10, shuffle=True, random_state=seed)\n",
    "    rmse = np.sqrt(-cross_val_score(model, X,y, cv= kfold, scoring='neg_mean_squared_error', n_jobs=1))\n",
    "    return rmse\n",
    "\n",
    "def r2(X, y,model=model):\n",
    "    kfold = KFold(n_splits=10, shuffle=True, random_state=seed)\n",
    "    r2 = cross_val_score(model, X, y, cv= kfold, scoring=\"r2\", n_jobs=1)\n",
    "    return r2\n",
    "\n",
    "seed = 5\n",
    "n_folds =5 "
   ]
  },
  {
   "cell_type": "code",
   "execution_count": 26,
   "metadata": {},
   "outputs": [
    {
     "name": "stdout",
     "output_type": "stream",
     "text": [
      "RMSE 0.461681\n",
      "R2 0.145717\n"
     ]
    },
    {
     "data": {
      "text/plain": [
       "array([0.21281521, 0.08011287, 0.11666215, ..., 0.6145399 , 1.06036049,\n",
       "       1.02219741])"
      ]
     },
     "execution_count": 26,
     "metadata": {},
     "output_type": "execute_result"
    }
   ],
   "source": [
    "print(\"RMSE %f\" % rmse(train,y_train).mean())\n",
    "print(\"R2 %f\" % r2(train,y_train).mean())\n",
    "model.fit(train,y_train)\n",
    "model.predict(test)"
   ]
  },
  {
   "cell_type": "code",
   "execution_count": 178,
   "metadata": {},
   "outputs": [],
   "source": [
    "import pickle\n",
    "pkl_filename = \"../output/lgbm.pkl\"\n",
    "with open(pkl_filename, 'wb') as file:\n",
    "    pickle.dump(model, file)"
   ]
  },
  {
   "cell_type": "code",
   "execution_count": 283,
   "metadata": {},
   "outputs": [],
   "source": [
    "finalPred = model.predict(test)\n",
    "finalPred = [min(max(x,0),1) for x in finalPred]"
   ]
  },
  {
   "cell_type": "code",
   "execution_count": 284,
   "metadata": {},
   "outputs": [],
   "source": [
    "sub = pd.DataFrame()\n",
    "sub['ID'] = test_ID\n",
    "sub['Pred'] = finalPred\n",
    "#sub.to_csv('../output/lgb_submission.csv',index=False)"
   ]
  },
  {
   "cell_type": "code",
   "execution_count": 285,
   "metadata": {},
   "outputs": [
    {
     "name": "stdout",
     "output_type": "stream",
     "text": [
      "RMSE :  0.214457\n"
     ]
    }
   ],
   "source": [
    "from sklearn.metrics import mean_squared_error as MSE\n",
    "predictions = sub[\"Pred\"]\n",
    "y_test = np.log1p(pd.read_csv(\"../output/lgb_submission.csv\")[\"Pred\"])\n",
    "rmse = np.sqrt(MSE(y_test, predictions)) \n",
    "print(\"RMSE : % f\" %(rmse)) "
   ]
  }
 ],
 "metadata": {
  "kernelspec": {
   "display_name": "Python 3",
   "language": "python",
   "name": "python3"
  },
  "language_info": {
   "codemirror_mode": {
    "name": "ipython",
    "version": 3
   },
   "file_extension": ".py",
   "mimetype": "text/x-python",
   "name": "python",
   "nbconvert_exporter": "python",
   "pygments_lexer": "ipython3",
   "version": "3.8.4"
  }
 },
 "nbformat": 4,
 "nbformat_minor": 4
}
